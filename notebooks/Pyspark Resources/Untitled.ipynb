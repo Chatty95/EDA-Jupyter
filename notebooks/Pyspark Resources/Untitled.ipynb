{
 "cells": [
  {
   "cell_type": "markdown",
   "id": "ec677aa6-ff8a-491c-a95b-4056de3fd29f",
   "metadata": {},
   "source": [
    "# Pyspark"
   ]
  },
  {
   "cell_type": "code",
   "execution_count": 1,
   "id": "b52954ca-6323-4a72-a02c-0c7040a22ca0",
   "metadata": {},
   "outputs": [],
   "source": [
    "import findspark\n",
    "import os\n",
    "os.environ['SPARK_HOME'] = '/Users/anirban/Downloads/spark-3.4.1-bin-hadoop3'  # Replace with the actual Spark installation path\n",
    "findspark.init()"
   ]
  },
  {
   "cell_type": "code",
   "execution_count": 2,
   "id": "509e74e8-45cf-4377-a244-414db5911d07",
   "metadata": {},
   "outputs": [],
   "source": [
    "from pyspark import SparkContext, SparkConf\n",
    "# sc.stop()\n",
    "# sc = SparkContext()"
   ]
  },
  {
   "cell_type": "markdown",
   "id": "d026d2ae-7229-47f0-836a-45cf45bb5605",
   "metadata": {},
   "source": [
    "## What is Spark Context ?\n",
    "\n",
    "1. It's the main entrypoint of a spark Cluster.\n",
    "\n",
    "2. A SparkContext represents the connection to a Spark cluster, and can be used to create RDDs, accumulators and broadcast variables on tha cluster.\n",
    "\n",
    "3. Only one SparkContext may be present perJVM.\n",
    "\n",
    "4. You need to stop() the active SparkContext to create a new one."
   ]
  },
  {
   "cell_type": "markdown",
   "id": "ef3d6428-590b-4ed5-9392-9e2e2e74d317",
   "metadata": {},
   "source": [
    "In case of Spark RDD, we need to create SparkContext.\n",
    "\n",
    "In case of Spark dataframe, we create SparkSession"
   ]
  },
  {
   "cell_type": "markdown",
   "id": "f0e512c4-2c68-4b00-9310-55d5a7c01433",
   "metadata": {},
   "source": [
    "### How to create Spark Context."
   ]
  },
  {
   "cell_type": "markdown",
   "id": "b09c21b0-5f1a-4a35-b5d2-1c25d9d9d869",
   "metadata": {},
   "source": [
    "1. Create a Spark Configuration.\n",
    "\n",
    "2. Use this config to create a Spark Context (connection)\n",
    "\n",
    "3. You can create a Spark COntext without using any Spark Config like on the fly."
   ]
  },
  {
   "cell_type": "code",
   "execution_count": 3,
   "id": "de482b17-f199-436f-ad8b-ff0b3b6ab2af",
   "metadata": {},
   "outputs": [
    {
     "name": "stderr",
     "output_type": "stream",
     "text": [
      "23/07/23 16:18:21 WARN Utils: Your hostname, Anirbans-MacBook-Air.local resolves to a loopback address: 127.0.0.1; using 192.168.1.2 instead (on interface en0)\n",
      "23/07/23 16:18:21 WARN Utils: Set SPARK_LOCAL_IP if you need to bind to another address\n",
      "Setting default log level to \"WARN\".\n",
      "To adjust logging level use sc.setLogLevel(newLevel). For SparkR, use setLogLevel(newLevel).\n",
      "23/07/23 16:18:21 WARN NativeCodeLoader: Unable to load native-hadoop library for your platform... using builtin-java classes where applicable\n"
     ]
    }
   ],
   "source": [
    "conf = SparkConf().setAppName(\"Spark_Demo\").setMaster(\"local\")\n",
    "sc = SparkContext(conf=conf)"
   ]
  },
  {
   "cell_type": "code",
   "execution_count": 4,
   "id": "4d370ab0-fb4c-4437-af97-382712846c44",
   "metadata": {},
   "outputs": [
    {
     "data": {
      "text/plain": [
       "[('spark.master', 'local'),\n",
       " ('spark.driver.port', '52516'),\n",
       " ('spark.driver.host', '192.168.1.2'),\n",
       " ('spark.app.submitTime', '1690109301317'),\n",
       " ('spark.executor.id', 'driver'),\n",
       " ('spark.app.id', 'local-1690109301950'),\n",
       " ('spark.app.name', 'Spark_Demo'),\n",
       " ('spark.driver.extraJavaOptions',\n",
       "  '-Djava.net.preferIPv6Addresses=false -XX:+IgnoreUnrecognizedVMOptions --add-opens=java.base/java.lang=ALL-UNNAMED --add-opens=java.base/java.lang.invoke=ALL-UNNAMED --add-opens=java.base/java.lang.reflect=ALL-UNNAMED --add-opens=java.base/java.io=ALL-UNNAMED --add-opens=java.base/java.net=ALL-UNNAMED --add-opens=java.base/java.nio=ALL-UNNAMED --add-opens=java.base/java.util=ALL-UNNAMED --add-opens=java.base/java.util.concurrent=ALL-UNNAMED --add-opens=java.base/java.util.concurrent.atomic=ALL-UNNAMED --add-opens=java.base/sun.nio.ch=ALL-UNNAMED --add-opens=java.base/sun.nio.cs=ALL-UNNAMED --add-opens=java.base/sun.security.action=ALL-UNNAMED --add-opens=java.base/sun.util.calendar=ALL-UNNAMED --add-opens=java.security.jgss/sun.security.krb5=ALL-UNNAMED -Djdk.reflect.useDirectMethodHandle=false'),\n",
       " ('spark.app.startTime', '1690109301485'),\n",
       " ('spark.rdd.compress', 'True'),\n",
       " ('spark.serializer.objectStreamReset', '100'),\n",
       " ('spark.submit.pyFiles', ''),\n",
       " ('spark.submit.deployMode', 'client'),\n",
       " ('spark.ui.showConsoleProgress', 'true'),\n",
       " ('spark.executor.extraJavaOptions',\n",
       "  '-Djava.net.preferIPv6Addresses=false -XX:+IgnoreUnrecognizedVMOptions --add-opens=java.base/java.lang=ALL-UNNAMED --add-opens=java.base/java.lang.invoke=ALL-UNNAMED --add-opens=java.base/java.lang.reflect=ALL-UNNAMED --add-opens=java.base/java.io=ALL-UNNAMED --add-opens=java.base/java.net=ALL-UNNAMED --add-opens=java.base/java.nio=ALL-UNNAMED --add-opens=java.base/java.util=ALL-UNNAMED --add-opens=java.base/java.util.concurrent=ALL-UNNAMED --add-opens=java.base/java.util.concurrent.atomic=ALL-UNNAMED --add-opens=java.base/sun.nio.ch=ALL-UNNAMED --add-opens=java.base/sun.nio.cs=ALL-UNNAMED --add-opens=java.base/sun.security.action=ALL-UNNAMED --add-opens=java.base/sun.util.calendar=ALL-UNNAMED --add-opens=java.security.jgss/sun.security.krb5=ALL-UNNAMED -Djdk.reflect.useDirectMethodHandle=false')]"
      ]
     },
     "execution_count": 4,
     "metadata": {},
     "output_type": "execute_result"
    }
   ],
   "source": [
    "sc.getConf().getAll()"
   ]
  },
  {
   "cell_type": "code",
   "execution_count": null,
   "id": "8cb3d682-14a2-4e17-a8d9-6a72070f5b3d",
   "metadata": {},
   "outputs": [],
   "source": []
  },
  {
   "cell_type": "code",
   "execution_count": 5,
   "id": "53eff0c8-e56d-4b37-a024-9eca5e34897c",
   "metadata": {},
   "outputs": [],
   "source": [
    "a = sc.parallelize([1,2,3,4])"
   ]
  },
  {
   "cell_type": "code",
   "execution_count": 6,
   "id": "fb6f58ec-bc3b-4848-862b-805fb6a327d6",
   "metadata": {},
   "outputs": [
    {
     "name": "stderr",
     "output_type": "stream",
     "text": [
      "                                                                                \r"
     ]
    },
    {
     "data": {
      "text/plain": [
       "[1, 2, 3, 4]"
      ]
     },
     "execution_count": 6,
     "metadata": {},
     "output_type": "execute_result"
    }
   ],
   "source": [
    "a.collect()"
   ]
  },
  {
   "cell_type": "code",
   "execution_count": 7,
   "id": "5455b151-d220-41ee-97cc-118dbaabb8e7",
   "metadata": {},
   "outputs": [
    {
     "data": {
      "text/plain": [
       "[1]"
      ]
     },
     "execution_count": 7,
     "metadata": {},
     "output_type": "execute_result"
    }
   ],
   "source": [
    "a.take(1)"
   ]
  },
  {
   "cell_type": "code",
   "execution_count": 8,
   "id": "82704180-f158-450e-add3-239c8c623656",
   "metadata": {},
   "outputs": [
    {
     "data": {
      "text/plain": [
       "pyspark.rdd.RDD"
      ]
     },
     "execution_count": 8,
     "metadata": {},
     "output_type": "execute_result"
    }
   ],
   "source": [
    "type(a)"
   ]
  },
  {
   "cell_type": "code",
   "execution_count": 9,
   "id": "871dc726-a5c0-49ed-a23a-d64363240132",
   "metadata": {},
   "outputs": [
    {
     "data": {
      "text/plain": [
       "6"
      ]
     },
     "execution_count": 9,
     "metadata": {},
     "output_type": "execute_result"
    }
   ],
   "source": [
    "from functools import reduce\n",
    "reduce(lambda x,y : x +y, [1,2,3])"
   ]
  },
  {
   "cell_type": "markdown",
   "id": "d52a5778-bf09-44c8-9d35-b42e06f3ff42",
   "metadata": {},
   "source": [
    "# RDD (Resilient Distributed Database)"
   ]
  },
  {
   "cell_type": "markdown",
   "id": "1e6bae77-5226-41be-9695-9f5809511e0d",
   "metadata": {},
   "source": [
    "Working with RDD (Two types of operations)\n",
    "1. Actions\n",
    "2. Transformations"
   ]
  },
  {
   "cell_type": "markdown",
   "id": "7500a41f-e251-4511-9254-d7a568c0c976",
   "metadata": {},
   "source": [
    "## Create RDD and their basic actions"
   ]
  },
  {
   "cell_type": "code",
   "execution_count": 10,
   "id": "beeb08f0-8d03-4be3-b7b8-13037b0f35b2",
   "metadata": {},
   "outputs": [],
   "source": [
    "names = sc.parallelize(['Adam','Cray','Shaun','Brian','Mark','Christ','Shail','Satya','Cray'])"
   ]
  },
  {
   "cell_type": "code",
   "execution_count": 11,
   "id": "11a28ce4-3c01-4989-82b4-2d9d07e9fa21",
   "metadata": {},
   "outputs": [
    {
     "data": {
      "text/plain": [
       "pyspark.rdd.RDD"
      ]
     },
     "execution_count": 11,
     "metadata": {},
     "output_type": "execute_result"
    }
   ],
   "source": [
    "type(names)"
   ]
  },
  {
   "cell_type": "markdown",
   "id": "c263ecd4-a8d0-4c9f-9310-2935d059f4b1",
   "metadata": {},
   "source": [
    "Create RDD from textfile"
   ]
  },
  {
   "cell_type": "code",
   "execution_count": 12,
   "id": "3adfdf0f-4375-48a6-964c-fed418d2b686",
   "metadata": {},
   "outputs": [
    {
     "data": {
      "text/plain": [
       "['x', 'y', 'z']"
      ]
     },
     "execution_count": 12,
     "metadata": {},
     "output_type": "execute_result"
    }
   ],
   "source": [
    "# sc.parallelize([\"x\", \"y\", \"z\"]).saveAsTextFile('random.txt')\n",
    "rand = sc.textFile('random.txt')\n",
    "type(rand)\n",
    "rand.take(3)"
   ]
  },
  {
   "cell_type": "markdown",
   "id": "20b69be6-a6f2-4d96-9b39-6b82b5bd1b51",
   "metadata": {},
   "source": [
    "#### Collect"
   ]
  },
  {
   "cell_type": "markdown",
   "id": "22ebd6b9-a19f-4b07-8db2-c95323d49894",
   "metadata": {},
   "source": [
    "\n",
    "1. We should not use collect as it will return all the elements in RDD then ther is no point in using Pyspark.\n",
    "\n",
    "2. This method should only be used if the resulting array is expected\n",
    "to be small, as all the data is loaded into the driver's memory"
   ]
  },
  {
   "cell_type": "code",
   "execution_count": 13,
   "id": "5b3f5a5d-d551-40ed-8751-c8dbfa98e240",
   "metadata": {},
   "outputs": [
    {
     "data": {
      "text/plain": [
       "['Adam', 'Cray', 'Shaun', 'Brian', 'Mark', 'Christ', 'Shail', 'Satya', 'Cray']"
      ]
     },
     "execution_count": 13,
     "metadata": {},
     "output_type": "execute_result"
    }
   ],
   "source": [
    "names.collect()"
   ]
  },
  {
   "cell_type": "code",
   "execution_count": 14,
   "id": "c8e06031-0204-46b2-8200-5d197f8e8328",
   "metadata": {},
   "outputs": [
    {
     "data": {
      "text/plain": [
       "['Adam', 'Cray', 'Shaun']"
      ]
     },
     "execution_count": 14,
     "metadata": {},
     "output_type": "execute_result"
    }
   ],
   "source": [
    "names.take(3)"
   ]
  },
  {
   "cell_type": "code",
   "execution_count": 15,
   "id": "84c2eb4c-f891-40da-b7fc-ebd5a00563ca",
   "metadata": {},
   "outputs": [
    {
     "data": {
      "text/plain": [
       "defaultdict(int,\n",
       "            {'Adam': 1,\n",
       "             'Cray': 2,\n",
       "             'Shaun': 1,\n",
       "             'Brian': 1,\n",
       "             'Mark': 1,\n",
       "             'Christ': 1,\n",
       "             'Shail': 1,\n",
       "             'Satya': 1})"
      ]
     },
     "execution_count": 15,
     "metadata": {},
     "output_type": "execute_result"
    }
   ],
   "source": [
    "names.countByValue()"
   ]
  },
  {
   "cell_type": "code",
   "execution_count": 16,
   "id": "00722b18-44a2-4fb5-97dd-0fa9cd8d90a2",
   "metadata": {},
   "outputs": [
    {
     "data": {
      "text/plain": [
       "8"
      ]
     },
     "execution_count": 16,
     "metadata": {},
     "output_type": "execute_result"
    }
   ],
   "source": [
    "names.distinct().count()"
   ]
  },
  {
   "cell_type": "markdown",
   "id": "a38ae646-2590-4d00-8aaf-64dea4dcd9b6",
   "metadata": {},
   "source": [
    "### foreach() \n",
    "Does not return anything but logs to stdout."
   ]
  },
  {
   "cell_type": "code",
   "execution_count": 17,
   "id": "2978ac0e-9bb6-4b83-8aa7-c8d0624569ac",
   "metadata": {},
   "outputs": [],
   "source": [
    "num = sc.parallelize([1,2,3,3,4,5,3,5,2,7,8,9],5)"
   ]
  },
  {
   "cell_type": "code",
   "execution_count": 18,
   "id": "de10f38b-e20e-4621-9f91-8514024ca589",
   "metadata": {},
   "outputs": [
    {
     "name": "stderr",
     "output_type": "stream",
     "text": [
      "Adam\n",
      "Cray\n",
      "Shaun\n",
      "Brian\n",
      "Mark\n",
      "Christ\n",
      "Shail\n",
      "Satya\n",
      "Cray\n"
     ]
    }
   ],
   "source": [
    "a = names.foreach(lambda x : print(x))"
   ]
  },
  {
   "cell_type": "code",
   "execution_count": 19,
   "id": "77d6e762-3e60-4e9f-8e42-8fe1ab034e8b",
   "metadata": {},
   "outputs": [
    {
     "data": {
      "text/plain": [
       "NoneType"
      ]
     },
     "execution_count": 19,
     "metadata": {},
     "output_type": "execute_result"
    }
   ],
   "source": [
    "type(a)"
   ]
  },
  {
   "cell_type": "markdown",
   "id": "e3ce502b-664c-42fc-9ca8-e0ab76b0ba94",
   "metadata": {},
   "source": [
    "### GLOM"
   ]
  },
  {
   "cell_type": "markdown",
   "id": "5d94c58c-82d6-46d2-8c6a-aaaaf907f72f",
   "metadata": {},
   "source": [
    "Return an RDD created by coalescing all elements within each partition\n",
    "into a list."
   ]
  },
  {
   "cell_type": "code",
   "execution_count": 20,
   "id": "1b4f3d6a-454c-4355-bbc0-b1c5158585d4",
   "metadata": {},
   "outputs": [
    {
     "data": {
      "text/plain": [
       "pyspark.rdd.RDD"
      ]
     },
     "execution_count": 20,
     "metadata": {},
     "output_type": "execute_result"
    }
   ],
   "source": [
    "type(num)"
   ]
  },
  {
   "cell_type": "code",
   "execution_count": 21,
   "id": "8ff7e7a0-66be-4ab4-af41-4575a9df6afb",
   "metadata": {},
   "outputs": [
    {
     "data": {
      "text/plain": [
       "[1, 2, 3, 3, 4, 5, 3, 5, 2, 7, 8, 9]"
      ]
     },
     "execution_count": 21,
     "metadata": {},
     "output_type": "execute_result"
    }
   ],
   "source": [
    "num.collect()"
   ]
  },
  {
   "cell_type": "code",
   "execution_count": 22,
   "id": "504c0af5-8244-4d4d-8ac7-9dfeb0c299ca",
   "metadata": {},
   "outputs": [
    {
     "data": {
      "text/plain": [
       "[1, 2, 3, 3]"
      ]
     },
     "execution_count": 22,
     "metadata": {},
     "output_type": "execute_result"
    }
   ],
   "source": [
    "num.take(4)"
   ]
  },
  {
   "cell_type": "markdown",
   "id": "a3b2d94a-3a4b-4050-a783-506d92c86aca",
   "metadata": {},
   "source": [
    "RDD stored in each partition (partition-wise RDD/ pipeline RDD)"
   ]
  },
  {
   "cell_type": "code",
   "execution_count": 23,
   "id": "e4473ae3-a157-4988-8996-ee29045f23f2",
   "metadata": {},
   "outputs": [
    {
     "data": {
      "text/plain": [
       "[[1, 2], [3, 3], [4, 5], [3, 5], [2, 7, 8, 9]]"
      ]
     },
     "execution_count": 23,
     "metadata": {},
     "output_type": "execute_result"
    }
   ],
   "source": [
    "num.glom().collect()"
   ]
  },
  {
   "cell_type": "code",
   "execution_count": 24,
   "id": "9c9668f9-8001-423c-9732-630cae6407d3",
   "metadata": {},
   "outputs": [
    {
     "data": {
      "text/plain": [
       "pyspark.rdd.PipelinedRDD"
      ]
     },
     "execution_count": 24,
     "metadata": {},
     "output_type": "execute_result"
    }
   ],
   "source": [
    "type(num.glom())"
   ]
  },
  {
   "cell_type": "markdown",
   "id": "c7f21065-2751-44c9-8f9a-7372eb1de94d",
   "metadata": {},
   "source": [
    "The data present in the first partition only"
   ]
  },
  {
   "cell_type": "code",
   "execution_count": 25,
   "id": "06aa070f-ede6-4880-ad1e-2875b778f75f",
   "metadata": {},
   "outputs": [
    {
     "data": {
      "text/plain": [
       "[1, 2]"
      ]
     },
     "execution_count": 25,
     "metadata": {},
     "output_type": "execute_result"
    }
   ],
   "source": [
    "num.glom().collect()[0]"
   ]
  },
  {
   "cell_type": "markdown",
   "id": "b013c0e8-a9b2-411a-970d-c561336c7093",
   "metadata": {},
   "source": [
    "### REDUCE"
   ]
  },
  {
   "cell_type": "code",
   "execution_count": 26,
   "id": "b99f6fc7-1689-418b-a5fb-a9bc5deaed95",
   "metadata": {},
   "outputs": [
    {
     "data": {
      "text/plain": [
       "52"
      ]
     },
     "execution_count": 26,
     "metadata": {},
     "output_type": "execute_result"
    }
   ],
   "source": [
    "reduce(lambda x,y : x+y, num.collect()) # Python's reduce"
   ]
  },
  {
   "cell_type": "code",
   "execution_count": 27,
   "id": "36df1804-96a9-48c6-830c-74b8d7eacc1a",
   "metadata": {},
   "outputs": [
    {
     "data": {
      "text/plain": [
       "52"
      ]
     },
     "execution_count": 27,
     "metadata": {},
     "output_type": "execute_result"
    }
   ],
   "source": [
    "num.reduce(lambda x,y:x+y) # pysaprk.rdd.RDD reduce"
   ]
  },
  {
   "cell_type": "markdown",
   "id": "f6bb4b4f-e7de-4b63-beb3-da1fe019c7f2",
   "metadata": {},
   "source": [
    "### SORT RDD"
   ]
  },
  {
   "cell_type": "code",
   "execution_count": 28,
   "id": "42dc930e-6139-45c7-9fd4-8dd46e156e4b",
   "metadata": {},
   "outputs": [
    {
     "data": {
      "text/plain": [
       "[1, 2, 2, 3, 3]"
      ]
     },
     "execution_count": 28,
     "metadata": {},
     "output_type": "execute_result"
    }
   ],
   "source": [
    "num.takeOrdered(5)"
   ]
  },
  {
   "cell_type": "markdown",
   "id": "9f9705f7-3ec5-472a-9cf1-2cf7eb6cfb9d",
   "metadata": {},
   "source": [
    "### FOLD **** Confusing ****"
   ]
  },
  {
   "cell_type": "code",
   "execution_count": 29,
   "id": "399eb9ea-0ea4-4938-9c22-ffb1c6bee77d",
   "metadata": {},
   "outputs": [
    {
     "data": {
      "text/plain": [
       "5443200"
      ]
     },
     "execution_count": 29,
     "metadata": {},
     "output_type": "execute_result"
    }
   ],
   "source": [
    "num.fold(1, lambda x,y : x*y)"
   ]
  },
  {
   "cell_type": "code",
   "execution_count": 30,
   "id": "62492d69-e383-483f-a06d-4ee4e236beee",
   "metadata": {},
   "outputs": [
    {
     "name": "stdout",
     "output_type": "stream",
     "text": [
      "CPU times: user 0 ns, sys: 1e+03 ns, total: 1e+03 ns\n",
      "Wall time: 3.1 µs\n"
     ]
    },
    {
     "data": {
      "text/plain": [
       "[1, 2, 3, 4, 5, 6, 7, 8, 9]"
      ]
     },
     "execution_count": 30,
     "metadata": {},
     "output_type": "execute_result"
    }
   ],
   "source": [
    "%time\n",
    "b = sc.parallelize(range(1,10))\n",
    "b.collect()"
   ]
  },
  {
   "cell_type": "markdown",
   "id": "55c0dc84-d690-47b3-bbbe-e1dc3469ffbb",
   "metadata": {},
   "source": [
    "## Transformations"
   ]
  },
  {
   "cell_type": "markdown",
   "id": "e3d821cd-35b8-4221-a9d7-a0795333636f",
   "metadata": {},
   "source": [
    "### Narrow Transformations"
   ]
  },
  {
   "cell_type": "markdown",
   "id": "293cdc84-9a81-4b29-a2a5-7f0aa4289702",
   "metadata": {},
   "source": [
    "#### Map\n",
    "Return a new RDD by applying a function to each element of this RDD."
   ]
  },
  {
   "cell_type": "code",
   "execution_count": null,
   "id": "153dc790-0d6c-4a19-806b-41d5c8c4646c",
   "metadata": {},
   "outputs": [],
   "source": []
  },
  {
   "cell_type": "code",
   "execution_count": 67,
   "id": "fbb2e560-fa60-42ff-bd36-a6321515d5dc",
   "metadata": {},
   "outputs": [
    {
     "data": {
      "text/plain": [
       "[[1, 2], [3, 4], [5, 6, 7, 8]]"
      ]
     },
     "execution_count": 67,
     "metadata": {},
     "output_type": "execute_result"
    }
   ],
   "source": [
    "num = sc.parallelize([1,2,3,4,5,6,7,8], 3)\n",
    "num.glom().collect()"
   ]
  },
  {
   "cell_type": "code",
   "execution_count": 59,
   "id": "9b065c8e-e15d-4214-b434-8506a822614e",
   "metadata": {},
   "outputs": [
    {
     "data": {
      "text/plain": [
       "[[1, 4], [9, 16], [25, 36, 49, 64]]"
      ]
     },
     "execution_count": 59,
     "metadata": {},
     "output_type": "execute_result"
    }
   ],
   "source": [
    "num.map(lambda x : x*x).glom().collect()"
   ]
  },
  {
   "cell_type": "markdown",
   "id": "978889ea-6594-4fb8-8f98-28902e2aa1a9",
   "metadata": {},
   "source": [
    "#### Flatmap\n",
    "Same as map but the result is flattened."
   ]
  },
  {
   "cell_type": "code",
   "execution_count": 62,
   "id": "2f701311-3292-4190-886f-80f5facdad91",
   "metadata": {},
   "outputs": [
    {
     "data": {
      "text/plain": [
       "[[4], [7, 12]]"
      ]
     },
     "execution_count": 62,
     "metadata": {},
     "output_type": "execute_result"
    }
   ],
   "source": [
    "num_2 = sc.parallelize([4,7,12],2)\n",
    "num_2.glom().collect()"
   ]
  },
  {
   "cell_type": "code",
   "execution_count": 63,
   "id": "55f17f24-e449-412f-b4c0-362773e21710",
   "metadata": {},
   "outputs": [
    {
     "data": {
      "text/plain": [
       "[[0, 1, 2, 3], [0, 1, 2, 3, 4, 5, 6, 0, 1, 2, 3, 4, 5, 6, 7, 8, 9, 10, 11]]"
      ]
     },
     "execution_count": 63,
     "metadata": {},
     "output_type": "execute_result"
    }
   ],
   "source": [
    "num_2.flatMap(lambda x : range(x)).glom().collect()"
   ]
  },
  {
   "cell_type": "markdown",
   "id": "204658b8-0ced-41f0-bc31-2d81f4e19478",
   "metadata": {},
   "source": [
    "#### Filter\n",
    "Return a new RDD containing only the elements that satisfy a predicate.\n"
   ]
  },
  {
   "cell_type": "code",
   "execution_count": 66,
   "id": "1ba733db-d8f7-4289-9e51-8bfa9e8fef44",
   "metadata": {},
   "outputs": [
    {
     "data": {
      "text/plain": [
       "[[], [7]]"
      ]
     },
     "execution_count": 66,
     "metadata": {},
     "output_type": "execute_result"
    }
   ],
   "source": [
    "num_2.filter(lambda x : x % 2 != 0).glom().collect()"
   ]
  },
  {
   "cell_type": "markdown",
   "id": "50819114-9070-4c77-ac7b-4c2faf80f55f",
   "metadata": {},
   "source": [
    "#### Union\n",
    "Union of all partitions from both RDD into a new RDD."
   ]
  },
  {
   "cell_type": "code",
   "execution_count": 70,
   "id": "a34878c4-6973-4708-81c0-ae958a082746",
   "metadata": {
    "scrolled": true
   },
   "outputs": [
    {
     "data": {
      "text/plain": [
       "[[1, 2], [3, 4], [5, 6, 7, 8], [4], [7, 12]]"
      ]
     },
     "execution_count": 70,
     "metadata": {},
     "output_type": "execute_result"
    }
   ],
   "source": [
    "num.union(num_2).glom().collect()"
   ]
  },
  {
   "cell_type": "code",
   "execution_count": 71,
   "id": "5f19e0f3-21ca-4736-ab45-c37e4f4d8be0",
   "metadata": {},
   "outputs": [
    {
     "data": {
      "text/plain": [
       "[1, 2, 3, 4, 5, 6, 7, 8, 4, 7, 12]"
      ]
     },
     "execution_count": 71,
     "metadata": {},
     "output_type": "execute_result"
    }
   ],
   "source": [
    "num.union(num_2).collect()"
   ]
  },
  {
   "cell_type": "markdown",
   "id": "def7d3f5-0cf0-406e-92f8-068f072d3647",
   "metadata": {},
   "source": [
    "#### Sample\n",
    "Return a sampled subset of this RDD based ona fraction of the original size."
   ]
  },
  {
   "cell_type": "code",
   "execution_count": 102,
   "id": "a82f4e9f-ddd6-4119-87b6-6403aaffbc47",
   "metadata": {},
   "outputs": [
    {
     "data": {
      "text/plain": [
       "[1, 3, 5, 6, 7]"
      ]
     },
     "execution_count": 102,
     "metadata": {},
     "output_type": "execute_result"
    }
   ],
   "source": [
    "num.sample(False, 0.5).collect()"
   ]
  },
  {
   "cell_type": "markdown",
   "id": "2b9ff440-8c9f-43d0-940a-a29f473558c9",
   "metadata": {},
   "source": [
    "### Wide Transformations\n",
    "These methods perform  shuffle(combines the partitions) internally.\n",
    "Generates a generator."
   ]
  },
  {
   "cell_type": "markdown",
   "id": "5424a27a-e396-4a7d-b590-827da082f50a",
   "metadata": {},
   "source": [
    " #### Groupby"
   ]
  },
  {
   "cell_type": "markdown",
   "id": "77c14595-83b7-48cd-88b7-3013c68b8be8",
   "metadata": {},
   "source": [
    "Without Key"
   ]
  },
  {
   "cell_type": "code",
   "execution_count": 130,
   "id": "382ebea8-3383-4e84-95ef-1311b0856698",
   "metadata": {},
   "outputs": [
    {
     "data": {
      "text/plain": [
       "[[0, 1, 2, 3], [4, 5, 6, 7], [8, 9, 10, 11, 12]]"
      ]
     },
     "execution_count": 130,
     "metadata": {},
     "output_type": "execute_result"
    }
   ],
   "source": [
    "num_3  = sc.parallelize(range(13),3)\n",
    "num_3.glom().collect()"
   ]
  },
  {
   "cell_type": "code",
   "execution_count": 116,
   "id": "21670373-00f1-4785-9b74-b9571e3dcd1f",
   "metadata": {},
   "outputs": [
    {
     "name": "stdout",
     "output_type": "stream",
     "text": [
      "False [1, 2, 4, 5, 7, 8, 10, 11]\n",
      "True [0, 3, 6, 9, 12]\n"
     ]
    }
   ],
   "source": [
    "for key, val in num_3.groupBy(lambda x : x %3 == 0).collect():\n",
    "    print(key, list(val))"
   ]
  },
  {
   "cell_type": "code",
   "execution_count": 118,
   "id": "3083565c-8c30-47f1-98ec-a5dd9aa2db41",
   "metadata": {},
   "outputs": [
    {
     "data": {
      "text/plain": [
       "['Adam', 'Cray', 'Shaun', 'Brian', 'Mark', 'Christ', 'Shail', 'Satya', 'Cray']"
      ]
     },
     "execution_count": 118,
     "metadata": {},
     "output_type": "execute_result"
    }
   ],
   "source": [
    "people = sc.parallelize(['Adam','Cray','Shaun','Brian','Mark','Christ','Shail','Satya','Cray'])\n",
    "people.collect()"
   ]
  },
  {
   "cell_type": "code",
   "execution_count": 122,
   "id": "2aef543b-0631-4564-a537-3361e07c5276",
   "metadata": {},
   "outputs": [
    {
     "name": "stdout",
     "output_type": "stream",
     "text": [
      "A ['Adam']\n",
      "C ['Cray', 'Christ', 'Cray']\n",
      "S ['Shaun', 'Shail', 'Satya']\n",
      "B ['Brian']\n",
      "M ['Mark']\n"
     ]
    }
   ],
   "source": [
    "for key, val in people.groupBy(lambda x : x[0]).collect():\n",
    "    print(key, list(val))"
   ]
  },
  {
   "cell_type": "markdown",
   "id": "72e77de2-35be-4781-aa64-d3dc1afbd451",
   "metadata": {},
   "source": [
    "#### Intersection"
   ]
  },
  {
   "cell_type": "code",
   "execution_count": 131,
   "id": "29cc190f-66e2-4f9e-a9ab-cf3b68915c67",
   "metadata": {},
   "outputs": [
    {
     "data": {
      "text/plain": [
       "[7, 12, 4]"
      ]
     },
     "execution_count": 131,
     "metadata": {},
     "output_type": "execute_result"
    }
   ],
   "source": [
    "num_2.intersection(num_3).collect()"
   ]
  },
  {
   "cell_type": "markdown",
   "id": "823cde45-d066-4a49-a8b4-06b96b6f9541",
   "metadata": {},
   "source": [
    "#### Subtract"
   ]
  },
  {
   "cell_type": "code",
   "execution_count": 136,
   "id": "37309b6c-9637-421b-8b8f-37452be65bc7",
   "metadata": {},
   "outputs": [
    {
     "data": {
      "text/plain": [
       "[0, 5, 10, 1, 6, 11, 2, 3, 8, 9]"
      ]
     },
     "execution_count": 136,
     "metadata": {},
     "output_type": "execute_result"
    }
   ],
   "source": [
    "num_3.subtract(num_2).collect()"
   ]
  },
  {
   "cell_type": "markdown",
   "id": "a0717829-7f9c-489f-94b0-6d42ba58e22c",
   "metadata": {},
   "source": [
    "#### Distinct"
   ]
  },
  {
   "cell_type": "code",
   "execution_count": 140,
   "id": "d48e8875-1695-469f-9457-77bb584d5cdf",
   "metadata": {},
   "outputs": [
    {
     "data": {
      "text/plain": [
       "[0, 3, 6, 9, 12, 1, 4, 7, 10, 2, 5, 8, 11]"
      ]
     },
     "execution_count": 140,
     "metadata": {},
     "output_type": "execute_result"
    }
   ],
   "source": [
    "num_3.distinct().collect()"
   ]
  },
  {
   "cell_type": "markdown",
   "id": "d46ae85c-7296-42d0-9442-0cb1a855cb6f",
   "metadata": {},
   "source": [
    "### Transformations on Key Value Pairs"
   ]
  },
  {
   "cell_type": "code",
   "execution_count": 166,
   "id": "f73908c7-283d-4131-9612-5066e3de721e",
   "metadata": {},
   "outputs": [
    {
     "data": {
      "text/plain": [
       "[(1, 2), (3, 4), (5, 6), (1, 7)]"
      ]
     },
     "execution_count": 166,
     "metadata": {},
     "output_type": "execute_result"
    }
   ],
   "source": [
    "data = sc.parallelize([(1,2),(3,4),(5,6),(1,7)])\n",
    "data.collect()"
   ]
  },
  {
   "cell_type": "code",
   "execution_count": 167,
   "id": "fa9d4c73-20b0-4843-a8c7-102ca538f84c",
   "metadata": {},
   "outputs": [
    {
     "data": {
      "text/plain": [
       "4"
      ]
     },
     "execution_count": 167,
     "metadata": {},
     "output_type": "execute_result"
    }
   ],
   "source": [
    "data.count()"
   ]
  },
  {
   "cell_type": "code",
   "execution_count": 168,
   "id": "e8e0749b-bd8d-489c-9653-36dd3d392f01",
   "metadata": {},
   "outputs": [
    {
     "data": {
      "text/plain": [
       "defaultdict(int, {(1, 2): 1, (3, 4): 1, (5, 6): 1, (1, 7): 1})"
      ]
     },
     "execution_count": 168,
     "metadata": {},
     "output_type": "execute_result"
    }
   ],
   "source": [
    "data.countByValue()"
   ]
  },
  {
   "cell_type": "code",
   "execution_count": 169,
   "id": "0be57a49-91fd-430e-be70-ea265445f76a",
   "metadata": {},
   "outputs": [
    {
     "data": {
      "text/plain": [
       "defaultdict(int, {1: 2, 3: 1, 5: 1})"
      ]
     },
     "execution_count": 169,
     "metadata": {},
     "output_type": "execute_result"
    }
   ],
   "source": [
    "data.countByKey()"
   ]
  },
  {
   "cell_type": "code",
   "execution_count": 170,
   "id": "54e680a4-3559-4571-840b-9bfb16d13b6c",
   "metadata": {},
   "outputs": [
    {
     "data": {
      "text/plain": [
       "[(5, 6), (3, 4)]"
      ]
     },
     "execution_count": 170,
     "metadata": {},
     "output_type": "execute_result"
    }
   ],
   "source": [
    "data.top(2)"
   ]
  },
  {
   "cell_type": "code",
   "execution_count": 171,
   "id": "aa6ec974-67cb-4bb6-855d-e614faba2749",
   "metadata": {},
   "outputs": [
    {
     "data": {
      "text/plain": [
       "[(1, 2), (1, 7), (3, 4), (5, 6)]"
      ]
     },
     "execution_count": 171,
     "metadata": {},
     "output_type": "execute_result"
    }
   ],
   "source": [
    "data.sortByKey().collect()"
   ]
  },
  {
   "cell_type": "code",
   "execution_count": 172,
   "id": "41395609-f6ff-4e3f-9b91-787d691cfc50",
   "metadata": {},
   "outputs": [
    {
     "data": {
      "text/plain": [
       "[4]"
      ]
     },
     "execution_count": 172,
     "metadata": {},
     "output_type": "execute_result"
    }
   ],
   "source": [
    "data.lookup(3)"
   ]
  },
  {
   "cell_type": "code",
   "execution_count": 173,
   "id": "70d4f792-0755-4714-8fd5-288dddb4b42d",
   "metadata": {},
   "outputs": [
    {
     "data": {
      "text/plain": [
       "[1, 3, 5, 1]"
      ]
     },
     "execution_count": 173,
     "metadata": {},
     "output_type": "execute_result"
    }
   ],
   "source": [
    "data.keys().collect()"
   ]
  },
  {
   "cell_type": "code",
   "execution_count": 174,
   "id": "ca90a0d3-4842-4d4d-b940-5b878c0eb46b",
   "metadata": {},
   "outputs": [
    {
     "data": {
      "text/plain": [
       "[2, 4, 6, 7]"
      ]
     },
     "execution_count": 174,
     "metadata": {},
     "output_type": "execute_result"
    }
   ],
   "source": [
    "data.values().collect()"
   ]
  },
  {
   "cell_type": "code",
   "execution_count": 175,
   "id": "a9b8d62d-e83f-4d7f-98f1-5872917394e1",
   "metadata": {},
   "outputs": [
    {
     "data": {
      "text/plain": [
       "[(1, True), (3, True), (5, True), (1, False)]"
      ]
     },
     "execution_count": 175,
     "metadata": {},
     "output_type": "execute_result"
    }
   ],
   "source": [
    "data.mapValues(lambda x : x % 2 ==  0).collect()"
   ]
  },
  {
   "cell_type": "markdown",
   "id": "b09851fa-41f8-4817-8556-ce8f92c093da",
   "metadata": {},
   "source": [
    "#### ReduceByKey\n",
    "Merge the values for each key using an associative and commutative reduce function.\n",
    "\n",
    "This will also perform the merging locally on each mapper before\n",
    "sending results to a reducer, similarly to a \"combiner\" in MapReduce.\n"
   ]
  },
  {
   "cell_type": "code",
   "execution_count": 178,
   "id": "b82d41d7-7df8-4a38-8618-3cd69a7ab2c7",
   "metadata": {},
   "outputs": [
    {
     "data": {
      "text/plain": [
       "[(1, 9), (3, 4), (5, 6)]"
      ]
     },
     "execution_count": 178,
     "metadata": {},
     "output_type": "execute_result"
    }
   ],
   "source": [
    "data.reduceByKey(lambda x,y : x+y).collect()"
   ]
  },
  {
   "cell_type": "markdown",
   "id": "93bcea9a-553b-42a9-8684-19605dc7e78e",
   "metadata": {},
   "source": [
    "#### GroupByKey\n",
    "1. Group the values for each key in the RDD into a single sequence.\n",
    "2. Unlike ReduceByKey, aggregation is not done in partition and done after combining all partitions.\n",
    "3. Hence, a lot of unnecessary data is transferred and hence is computationsal expnesive.\n",
    "4. Generates a generator."
   ]
  },
  {
   "cell_type": "code",
   "execution_count": 188,
   "id": "c24b7838-aba1-41e5-af5d-2050434b8d15",
   "metadata": {},
   "outputs": [
    {
     "name": "stdout",
     "output_type": "stream",
     "text": [
      "1 [2, 7]\n",
      "3 [4]\n",
      "5 [6]\n"
     ]
    }
   ],
   "source": [
    "for key, val in data.groupByKey().collect():\n",
    "    print(key, list(val))"
   ]
  },
  {
   "cell_type": "code",
   "execution_count": 207,
   "id": "dd95405b-7881-496c-923b-d09157742584",
   "metadata": {},
   "outputs": [
    {
     "data": {
      "text/plain": [
       "[(1, 9), (3, 4), (5, 6)]"
      ]
     },
     "execution_count": 207,
     "metadata": {},
     "output_type": "execute_result"
    }
   ],
   "source": [
    "data.groupByKey().mapValues(sum).collect() # This is the same result as obtained by ReeduceByKey() but is computationsally expensive."
   ]
  },
  {
   "cell_type": "markdown",
   "id": "b0ecc53a-21d5-42c9-b31f-190b2371b9fc",
   "metadata": {
    "jp-MarkdownHeadingCollapsed": true
   },
   "source": [
    "------ Note\n",
    "##### reduceBykey = groupByKey.mapValues()"
   ]
  },
  {
   "cell_type": "markdown",
   "id": "28635c4e-1a96-4df7-acd7-f8a7602be43a",
   "metadata": {},
   "source": [
    "#### FlatMapValues"
   ]
  },
  {
   "cell_type": "code",
   "execution_count": 208,
   "id": "08018c64-60e3-4afc-900f-25e47de90deb",
   "metadata": {},
   "outputs": [
    {
     "data": {
      "text/plain": [
       "[(1, 0),\n",
       " (1, 1),\n",
       " (3, 0),\n",
       " (3, 1),\n",
       " (3, 2),\n",
       " (3, 3),\n",
       " (5, 0),\n",
       " (5, 1),\n",
       " (5, 2),\n",
       " (5, 3),\n",
       " (5, 4),\n",
       " (5, 5),\n",
       " (1, 0),\n",
       " (1, 1),\n",
       " (1, 2),\n",
       " (1, 3),\n",
       " (1, 4),\n",
       " (1, 5),\n",
       " (1, 6)]"
      ]
     },
     "execution_count": 208,
     "metadata": {},
     "output_type": "execute_result"
    }
   ],
   "source": [
    "data.flatMapValues(lambda x : range(x)).collect()"
   ]
  },
  {
   "cell_type": "markdown",
   "id": "cbd70539-c433-4c20-b714-075380fee77d",
   "metadata": {},
   "source": [
    "#### SubtractByKey\n",
    "Return each (key, value) pair in `self` that has no pair with matching\n",
    "key in `other`."
   ]
  },
  {
   "cell_type": "code",
   "execution_count": 213,
   "id": "328738b7-1830-4860-8981-5f971d359316",
   "metadata": {},
   "outputs": [],
   "source": [
    "data_2 = sc.parallelize([(1,5), (5,8)])"
   ]
  },
  {
   "cell_type": "code",
   "execution_count": 214,
   "id": "f5805054-f53a-457c-a269-622cd5438437",
   "metadata": {},
   "outputs": [
    {
     "data": {
      "text/plain": [
       "[(3, 4)]"
      ]
     },
     "execution_count": 214,
     "metadata": {},
     "output_type": "execute_result"
    }
   ],
   "source": [
    "data.subtractByKey(data_2).collect()"
   ]
  },
  {
   "cell_type": "markdown",
   "id": "c89dda99-ddcb-4216-a8df-41ea6be27b00",
   "metadata": {},
   "source": [
    "#### Join"
   ]
  },
  {
   "cell_type": "code",
   "execution_count": 216,
   "id": "12409ae3-a84a-4c25-862f-101c3bb919e8",
   "metadata": {},
   "outputs": [
    {
     "data": {
      "text/plain": [
       "[(2, 5), (4, 8), (5, 7), (7, 9)]"
      ]
     },
     "execution_count": 216,
     "metadata": {},
     "output_type": "execute_result"
    }
   ],
   "source": [
    "data_3 = sc.parallelize([(2,5),(4,8),(5,7),(7,9)])\n",
    "data_3.collect()"
   ]
  },
  {
   "cell_type": "code",
   "execution_count": 217,
   "id": "8ff9ea1f-a6a0-4884-a236-8918af2162ef",
   "metadata": {},
   "outputs": [
    {
     "data": {
      "text/plain": [
       "[(5, (7, 8))]"
      ]
     },
     "execution_count": 217,
     "metadata": {},
     "output_type": "execute_result"
    }
   ],
   "source": [
    "data_3.join(data_2).collect()"
   ]
  },
  {
   "cell_type": "code",
   "execution_count": 220,
   "id": "aee37e9c-f0ee-42d5-833c-4883f457cc21",
   "metadata": {},
   "outputs": [
    {
     "data": {
      "text/plain": [
       "[(5, (7, 8)), (1, (None, 5))]"
      ]
     },
     "execution_count": 220,
     "metadata": {},
     "output_type": "execute_result"
    }
   ],
   "source": [
    "data_3.rightOuterJoin(data_2).collect()"
   ]
  },
  {
   "cell_type": "code",
   "execution_count": 221,
   "id": "bc521ab8-f925-4288-a968-eb34febbfa9c",
   "metadata": {},
   "outputs": [
    {
     "data": {
      "text/plain": [
       "[(2, (5, None)), (4, (8, None)), (5, (7, 8)), (7, (9, None))]"
      ]
     },
     "execution_count": 221,
     "metadata": {},
     "output_type": "execute_result"
    }
   ],
   "source": [
    "data_3.leftOuterJoin(data_2).collect()"
   ]
  },
  {
   "cell_type": "code",
   "execution_count": 222,
   "id": "ff5ef868-4aac-42fe-8c15-c14e5f2c3a74",
   "metadata": {},
   "outputs": [
    {
     "data": {
      "text/plain": [
       "[(2, (5, None)), (4, (8, None)), (5, (7, 8)), (7, (9, None)), (1, (None, 5))]"
      ]
     },
     "execution_count": 222,
     "metadata": {},
     "output_type": "execute_result"
    }
   ],
   "source": [
    "data_3.fullOuterJoin(data_2).collect()"
   ]
  },
  {
   "cell_type": "code",
   "execution_count": null,
   "id": "d6ead6da-cf77-4341-8458-023579ca0661",
   "metadata": {},
   "outputs": [],
   "source": []
  }
 ],
 "metadata": {
  "kernelspec": {
   "display_name": "Python 3 (ipykernel)",
   "language": "python",
   "name": "python3"
  },
  "language_info": {
   "codemirror_mode": {
    "name": "ipython",
    "version": 3
   },
   "file_extension": ".py",
   "mimetype": "text/x-python",
   "name": "python",
   "nbconvert_exporter": "python",
   "pygments_lexer": "ipython3",
   "version": "3.9.7"
  }
 },
 "nbformat": 4,
 "nbformat_minor": 5
}
