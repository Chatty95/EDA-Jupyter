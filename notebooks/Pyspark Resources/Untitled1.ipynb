{
 "cells": [
  {
   "cell_type": "code",
   "execution_count": 6,
   "id": "ed464ca1-333f-4c3a-b285-be9db501e8ee",
   "metadata": {},
   "outputs": [
    {
     "ename": "TabError",
     "evalue": "inconsistent use of tabs and spaces in indentation (2790727800.py, line 7)",
     "output_type": "error",
     "traceback": [
      "\u001b[0;36m  Cell \u001b[0;32mIn[6], line 7\u001b[0;36m\u001b[0m\n\u001b[0;31m    print(start_index, \"is divisible by 5 & 7\")\u001b[0m\n\u001b[0m                                               ^\u001b[0m\n\u001b[0;31mTabError\u001b[0m\u001b[0;31m:\u001b[0m inconsistent use of tabs and spaces in indentation\n"
     ]
    }
   ],
   "source": [
    "n = 30\n",
    "def divisible_by(num):\n",
    "    start_index = 1\n",
    "    while start_index <= num:\n",
    "\t\t# Using the modulo operator\n",
    "        if start_index % 5 == 0 and start_index % 7 == 0:\n",
    "    \t\tprint(start_index, \"is divisible by 5 & 7\")\n",
    "        start_index +=1\n",
    "divisible_by(n)"
   ]
  },
  {
   "cell_type": "code",
   "execution_count": 14,
   "id": "f53d04ba-57ea-495f-a562-c9a982918d6f",
   "metadata": {},
   "outputs": [],
   "source": [
    "def divisible_by(num):\n",
    "    result = []\n",
    "    start_index = 1\n",
    "    while start_index <= num:\n",
    "        if start_index % 5 ==0 and start_index % 7 == 0:\n",
    "            result.append(start_index)\n",
    "        start_index +=1\n",
    "    return result"
   ]
  },
  {
   "cell_type": "code",
   "execution_count": 16,
   "id": "1321ed43-4d55-4105-8fc1-2760b74716b6",
   "metadata": {},
   "outputs": [
    {
     "data": {
      "text/plain": [
       "[35]"
      ]
     },
     "execution_count": 16,
     "metadata": {},
     "output_type": "execute_result"
    }
   ],
   "source": [
    "res = divisible_by(60)\n",
    "res"
   ]
  },
  {
   "cell_type": "code",
   "execution_count": 20,
   "id": "029d2fbd-96d8-4fad-bbca-09213d58fd57",
   "metadata": {},
   "outputs": [
    {
     "data": {
      "text/plain": [
       "'UONINHUIHIHHLIHNJB'"
      ]
     },
     "execution_count": 20,
     "metadata": {},
     "output_type": "execute_result"
    }
   ],
   "source": [
    "s = \"uONINhuihihHLIHNJB\"\n",
    "s.upper()"
   ]
  },
  {
   "cell_type": "code",
   "execution_count": 21,
   "id": "d9c698f8-e7ea-404f-a288-c2b65650029e",
   "metadata": {},
   "outputs": [
    {
     "data": {
      "text/plain": [
       "' '"
      ]
     },
     "execution_count": 21,
     "metadata": {},
     "output_type": "execute_result"
    }
   ],
   "source": [
    "\" \".upper()"
   ]
  },
  {
   "cell_type": "code",
   "execution_count": 27,
   "id": "e0484aa8-cb26-49dd-ab1c-f886619d9f32",
   "metadata": {},
   "outputs": [],
   "source": [
    "import collections"
   ]
  },
  {
   "cell_type": "code",
   "execution_count": 41,
   "id": "1d54c01b-3b3a-4832-bd3d-ef870b839f3c",
   "metadata": {},
   "outputs": [
    {
     "name": "stdout",
     "output_type": "stream",
     "text": [
      "1 1\n",
      "2 0\n"
     ]
    }
   ],
   "source": [
    "lis = [1,2,3,5]\n",
    "d = collections.defaultdict(int)\n",
    "d['1'] = 1\n",
    "d['2']\n",
    "# d['2'] + ('two',)\n",
    "for key, value in d.items():\n",
    "    print(key, value)\n"
   ]
  },
  {
   "cell_type": "code",
   "execution_count": 44,
   "id": "6b59314c-2ce7-40c0-870c-28fa3196be60",
   "metadata": {},
   "outputs": [
    {
     "data": {
      "text/plain": [
       "8"
      ]
     },
     "execution_count": 44,
     "metadata": {},
     "output_type": "execute_result"
    }
   ],
   "source": [
    "a =(3,4,8)\n",
    "a[2]"
   ]
  },
  {
   "cell_type": "code",
   "execution_count": 48,
   "id": "c8479b06-2bad-4fb9-ae1a-5a5bd899b509",
   "metadata": {},
   "outputs": [
    {
     "ename": "TypeError",
     "evalue": "'set' object is not subscriptable",
     "output_type": "error",
     "traceback": [
      "\u001b[0;31m---------------------------------------------------------------------------\u001b[0m",
      "\u001b[0;31mTypeError\u001b[0m                                 Traceback (most recent call last)",
      "Cell \u001b[0;32mIn[48], line 2\u001b[0m\n\u001b[1;32m      1\u001b[0m a \u001b[38;5;241m=\u001b[39m \u001b[38;5;28mset\u001b[39m([\u001b[38;5;241m1\u001b[39m,\u001b[38;5;241m2\u001b[39m,\u001b[38;5;241m3\u001b[39m,\u001b[38;5;241m3\u001b[39m,\u001b[38;5;241m4\u001b[39m,\u001b[38;5;241m4\u001b[39m,\u001b[38;5;241m5\u001b[39m])\n\u001b[0;32m----> 2\u001b[0m \u001b[43ma\u001b[49m\u001b[43m[\u001b[49m\u001b[38;5;241;43m0\u001b[39;49m\u001b[43m]\u001b[49m\n",
      "\u001b[0;31mTypeError\u001b[0m: 'set' object is not subscriptable"
     ]
    }
   ],
   "source": [
    "a = set([1,2,3,3,4,4,5])\n",
    "a[0]"
   ]
  },
  {
   "cell_type": "code",
   "execution_count": 1,
   "id": "e7bd9df1-1655-4ade-806d-5cf7324fbce1",
   "metadata": {},
   "outputs": [
    {
     "data": {
      "text/plain": [
       "[1, 2, 3, 4]"
      ]
     },
     "execution_count": 1,
     "metadata": {},
     "output_type": "execute_result"
    }
   ],
   "source": [
    "l = [1,2,3,4]\n",
    "l"
   ]
  },
  {
   "cell_type": "code",
   "execution_count": 2,
   "id": "810f0a5e-a8ec-4e15-b713-7ebdbbc61b86",
   "metadata": {},
   "outputs": [
    {
     "data": {
      "text/plain": [
       "([1, 2, 3, 4], 4, 5, 6)"
      ]
     },
     "execution_count": 2,
     "metadata": {},
     "output_type": "execute_result"
    }
   ],
   "source": [
    "s = (l,4,5,6)\n",
    "s"
   ]
  },
  {
   "cell_type": "code",
   "execution_count": 3,
   "id": "f2b239e0-6c3a-472c-9249-085d03e49d61",
   "metadata": {},
   "outputs": [
    {
     "data": {
      "text/plain": [
       "[1, 2, 3, 4]"
      ]
     },
     "execution_count": 3,
     "metadata": {},
     "output_type": "execute_result"
    }
   ],
   "source": [
    "s[0]"
   ]
  },
  {
   "cell_type": "code",
   "execution_count": 4,
   "id": "d7508009-4607-4f1f-8932-c8c9c13dab03",
   "metadata": {},
   "outputs": [],
   "source": [
    "s[0].append(0)"
   ]
  },
  {
   "cell_type": "code",
   "execution_count": 5,
   "id": "70dfafd8-abef-4bf7-a882-318200f586bc",
   "metadata": {},
   "outputs": [
    {
     "data": {
      "text/plain": [
       "([1, 2, 3, 4, 0], 4, 5, 6)"
      ]
     },
     "execution_count": 5,
     "metadata": {},
     "output_type": "execute_result"
    }
   ],
   "source": [
    "s"
   ]
  },
  {
   "cell_type": "code",
   "execution_count": 6,
   "id": "c24e1363-eba3-4a3f-a65b-2d87713ea715",
   "metadata": {},
   "outputs": [
    {
     "data": {
      "text/plain": [
       "[1, 2, 3, 4, 0]"
      ]
     },
     "execution_count": 6,
     "metadata": {},
     "output_type": "execute_result"
    }
   ],
   "source": [
    "l"
   ]
  },
  {
   "cell_type": "code",
   "execution_count": 7,
   "id": "24ae096d-b0ec-4d67-bfd2-41d20aae91fe",
   "metadata": {},
   "outputs": [
    {
     "data": {
      "text/plain": [
       "{}"
      ]
     },
     "execution_count": 7,
     "metadata": {},
     "output_type": "execute_result"
    }
   ],
   "source": [
    "d = {}\n",
    "d"
   ]
  },
  {
   "cell_type": "code",
   "execution_count": 10,
   "id": "b14e2e30-a040-4545-b279-d4a2ac2004ec",
   "metadata": {},
   "outputs": [
    {
     "data": {
      "text/plain": [
       "{4: True, 5: True, 6: True}"
      ]
     },
     "execution_count": 10,
     "metadata": {},
     "output_type": "execute_result"
    }
   ],
   "source": [
    "for _ in s[1:]:\n",
    "    d[_] = True\n",
    "d"
   ]
  },
  {
   "cell_type": "code",
   "execution_count": 14,
   "id": "a9f65fd0-defa-410d-9227-7b5a785a45d0",
   "metadata": {},
   "outputs": [
    {
     "data": {
      "text/plain": [
       "([1, 2, 3, 4, 0], 4, 5, 6)"
      ]
     },
     "execution_count": 14,
     "metadata": {},
     "output_type": "execute_result"
    }
   ],
   "source": [
    "s"
   ]
  },
  {
   "cell_type": "code",
   "execution_count": 13,
   "id": "b2d60206-898b-4224-b65e-0a17d9a4b8c7",
   "metadata": {},
   "outputs": [
    {
     "data": {
      "text/plain": [
       "{4: True, 5: True, 6: True, (4, 5, 6): True}"
      ]
     },
     "execution_count": 13,
     "metadata": {},
     "output_type": "execute_result"
    }
   ],
   "source": [
    "d[s[1:]] =True\n",
    "d"
   ]
  },
  {
   "cell_type": "code",
   "execution_count": null,
   "id": "771a1f41-5d0b-4ca6-ba72-dcfd6e05c1df",
   "metadata": {},
   "outputs": [],
   "source": []
  }
 ],
 "metadata": {
  "kernelspec": {
   "display_name": "Python 3 (ipykernel)",
   "language": "python",
   "name": "python3"
  },
  "language_info": {
   "codemirror_mode": {
    "name": "ipython",
    "version": 3
   },
   "file_extension": ".py",
   "mimetype": "text/x-python",
   "name": "python",
   "nbconvert_exporter": "python",
   "pygments_lexer": "ipython3",
   "version": "3.9.7"
  }
 },
 "nbformat": 4,
 "nbformat_minor": 5
}
