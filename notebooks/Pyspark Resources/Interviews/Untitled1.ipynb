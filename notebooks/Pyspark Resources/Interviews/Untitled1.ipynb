{
 "cells": [
  {
   "cell_type": "code",
   "execution_count": 1,
   "id": "3c06615d-48fc-4aea-bfed-40f2c207a15b",
   "metadata": {},
   "outputs": [
    {
     "data": {
      "text/plain": [
       "{2, 3, 4, 5}"
      ]
     },
     "execution_count": 1,
     "metadata": {},
     "output_type": "execute_result"
    }
   ],
   "source": [
    "a = {2,3,4,5}\n",
    "a"
   ]
  },
  {
   "cell_type": "code",
   "execution_count": 2,
   "id": "4f5f6511-340e-4b5d-9d84-53efafbd4465",
   "metadata": {},
   "outputs": [
    {
     "data": {
      "text/plain": [
       "{2, 3, 4, 5}"
      ]
     },
     "execution_count": 2,
     "metadata": {},
     "output_type": "execute_result"
    }
   ],
   "source": [
    "b = {2,3,4,4,5}\n",
    "b"
   ]
  },
  {
   "cell_type": "code",
   "execution_count": 6,
   "id": "b4a262fe-265d-4d04-b406-c0ec3e1561f6",
   "metadata": {},
   "outputs": [
    {
     "data": {
      "text/plain": [
       "3"
      ]
     },
     "execution_count": 6,
     "metadata": {},
     "output_type": "execute_result"
    }
   ],
   "source": [
    "c = list(b)\n",
    "c[1]\n",
    "# .index(1)"
   ]
  },
  {
   "cell_type": "code",
   "execution_count": 7,
   "id": "079ae80a-2228-4511-bacb-13d0377deba5",
   "metadata": {},
   "outputs": [
    {
     "data": {
      "text/plain": [
       "dict"
      ]
     },
     "execution_count": 7,
     "metadata": {},
     "output_type": "execute_result"
    }
   ],
   "source": [
    "a = {}\n",
    "type(a)"
   ]
  },
  {
   "cell_type": "code",
   "execution_count": 8,
   "id": "759278d7-f594-46a1-b66a-abcd4b37222b",
   "metadata": {},
   "outputs": [
    {
     "data": {
      "text/plain": [
       "dict"
      ]
     },
     "execution_count": 8,
     "metadata": {},
     "output_type": "execute_result"
    }
   ],
   "source": [
    "b ={'a': 2}\n",
    "type(b)"
   ]
  },
  {
   "cell_type": "code",
   "execution_count": 10,
   "id": "5ff2bf11-9880-4fa3-b9ff-4ce6bd2c7589",
   "metadata": {},
   "outputs": [
    {
     "data": {
      "text/plain": [
       "{'abc': 1}"
      ]
     },
     "execution_count": 10,
     "metadata": {},
     "output_type": "execute_result"
    }
   ],
   "source": [
    "a = {}\n",
    "a['abc'] = 1\n",
    "a"
   ]
  },
  {
   "cell_type": "code",
   "execution_count": 13,
   "id": "2b680a75-0bf7-404e-9e1c-2f432c92484e",
   "metadata": {},
   "outputs": [
    {
     "name": "stdout",
     "output_type": "stream",
     "text": [
      "hon Cod\n"
     ]
    }
   ],
   "source": [
    "string1 = \"Python Coding\"\n",
    "\n",
    "print(string1[-10:-3])"
   ]
  },
  {
   "cell_type": "code",
   "execution_count": 16,
   "id": "69957bc1-277d-4564-be7a-39ff5a7a8c5c",
   "metadata": {},
   "outputs": [
    {
     "data": {
      "text/plain": [
       "[[0, 3], [0, 4], [0, 5], [1, 3], [1, 4], [1, 5], [2, 3], [2, 4], [2, 5]]"
      ]
     },
     "execution_count": 16,
     "metadata": {},
     "output_type": "execute_result"
    }
   ],
   "source": [
    "a = [0 ,1 ,2]\n",
    "b = [3, 4, 5]\n",
    "# [0,3],[1,4],[2,5]\n",
    "[[x,y] for x in a for y in b ]\n",
    "\n",
    "             "
   ]
  },
  {
   "cell_type": "code",
   "execution_count": 15,
   "id": "c89c24ee-cdef-4094-a88b-27922dedc956",
   "metadata": {},
   "outputs": [
    {
     "data": {
      "text/plain": [
       "[0, 1, 2, 3, 4, 5]"
      ]
     },
     "execution_count": 15,
     "metadata": {},
     "output_type": "execute_result"
    }
   ],
   "source": [
    "[0,1,2,3,4,5]\n",
    "list1 = [x for x in range(0,6)]\n",
    "list1"
   ]
  },
  {
   "cell_type": "code",
   "execution_count": 17,
   "id": "be3cfca5-622e-4161-b151-3cc05e857250",
   "metadata": {},
   "outputs": [
    {
     "name": "stdout",
     "output_type": "stream",
     "text": [
      "<class 'tuple'>\n"
     ]
    }
   ],
   "source": [
    "a = (1,2,3)\n",
    "\n",
    "print(type(a))\n",
    "\n"
   ]
  },
  {
   "cell_type": "code",
   "execution_count": 18,
   "id": "b44597f8-ba92-47ae-81d8-684bb3fecfa4",
   "metadata": {},
   "outputs": [
    {
     "name": "stdout",
     "output_type": "stream",
     "text": [
      "<class 'tuple'>\n"
     ]
    }
   ],
   "source": [
    "a = ()\n",
    "\n",
    "print(type(a))"
   ]
  },
  {
   "cell_type": "code",
   "execution_count": 23,
   "id": "fda7f73c-2853-494d-a1eb-817706d32b36",
   "metadata": {},
   "outputs": [
    {
     "name": "stdout",
     "output_type": "stream",
     "text": [
      "[1]\n",
      "[1, 1]\n"
     ]
    }
   ],
   "source": [
    "# item = [1]\n",
    "def fast (items= []):\n",
    "    items.append (1)\n",
    "    return items\n",
    "print(fast ())\n",
    "print(fast ())"
   ]
  },
  {
   "cell_type": "code",
   "execution_count": 24,
   "id": "d27d9e2f-335b-49cc-bef2-c07f53ab46e1",
   "metadata": {},
   "outputs": [
    {
     "name": "stdout",
     "output_type": "stream",
     "text": [
      "[<function x.<locals>.<listcomp>.<lambda> at 0x11f84f4c0>, <function x.<locals>.<listcomp>.<lambda> at 0x11f84f820>, <function x.<locals>.<listcomp>.<lambda> at 0x11f84f790>, <function x.<locals>.<listcomp>.<lambda> at 0x11f84f8b0>]\n"
     ]
    }
   ],
   "source": [
    "def x():\n",
    "    return [lambda n: index * n for index in range (4)]\n",
    "print(x())"
   ]
  },
  {
   "cell_type": "code",
   "execution_count": 25,
   "id": "1ddc0ef1-0d5f-499a-a70d-8d7f25eb0398",
   "metadata": {},
   "outputs": [
    {
     "data": {
      "text/plain": [
       "[1, 4, 9, 16]"
      ]
     },
     "execution_count": 25,
     "metadata": {},
     "output_type": "execute_result"
    }
   ],
   "source": [
    "l = [1,2,3,4]\n",
    "list(map(lambda x :x**2, l))"
   ]
  },
  {
   "cell_type": "code",
   "execution_count": 38,
   "id": "96b4b6dc-0368-4327-976a-2db1cf89bdb8",
   "metadata": {},
   "outputs": [],
   "source": [
    "a = [1,2,3]\n",
    "\n",
    "b = [2,5,6]\n",
    "\n",
    "c = [7,8,9]"
   ]
  },
  {
   "cell_type": "code",
   "execution_count": 27,
   "id": "acfe8fa1-dd5c-472e-a241-eb8c8cdcdd33",
   "metadata": {},
   "outputs": [],
   "source": [
    "# Expecetd Output\n",
    "#op = [(1,2,3), (2,5,6), (7,8,9)]"
   ]
  },
  {
   "cell_type": "code",
   "execution_count": 49,
   "id": "2c2648b7-6a42-44aa-9a62-9f7c33b4c795",
   "metadata": {},
   "outputs": [
    {
     "data": {
      "text/plain": [
       "[[1, 2, 3, 4, 5, 6, 7, 8, 9], [2, 5, 6], [7, 8, 9]]"
      ]
     },
     "execution_count": 49,
     "metadata": {},
     "output_type": "execute_result"
    }
   ],
   "source": [
    "def func(*args):\n",
    "    final = []\n",
    "    for i in args:\n",
    "        final.append((i))\n",
    "    return final\n",
    "func(a , b , c)"
   ]
  },
  {
   "cell_type": "code",
   "execution_count": 54,
   "id": "de47cd3c-aee0-4037-a189-8afdc2be45f0",
   "metadata": {},
   "outputs": [
    {
     "ename": "AttributeError",
     "evalue": "'list' object has no attribute 'deepcopy'",
     "output_type": "error",
     "traceback": [
      "\u001b[0;31m---------------------------------------------------------------------------\u001b[0m",
      "\u001b[0;31mAttributeError\u001b[0m                            Traceback (most recent call last)",
      "Cell \u001b[0;32mIn[54], line 4\u001b[0m\n\u001b[1;32m      1\u001b[0m \u001b[38;5;28;01mfrom\u001b[39;00m \u001b[38;5;21;01mcopy\u001b[39;00m \u001b[38;5;28;01mimport\u001b[39;00m deepcopy\n\u001b[1;32m      2\u001b[0m first \u001b[38;5;241m=\u001b[39m [\u001b[38;5;241m1\u001b[39m,\u001b[38;5;241m2\u001b[39m,\u001b[38;5;241m3\u001b[39m,\u001b[38;5;241m4\u001b[39m,\u001b[38;5;241m5\u001b[39m]\n\u001b[0;32m----> 4\u001b[0m second \u001b[38;5;241m=\u001b[39m \u001b[43mfirst\u001b[49m\u001b[38;5;241;43m.\u001b[39;49m\u001b[43mdeepcopy\u001b[49m()\n\u001b[1;32m      6\u001b[0m second\u001b[38;5;241m.\u001b[39mappend(\u001b[38;5;241m6\u001b[39m)\n\u001b[1;32m      8\u001b[0m \u001b[38;5;28mprint\u001b[39m(first)\n",
      "\u001b[0;31mAttributeError\u001b[0m: 'list' object has no attribute 'deepcopy'"
     ]
    }
   ],
   "source": [
    "from copy import deepcopy\n",
    "first = [1,2,3,4,5]\n",
    "\n",
    "second = first.deepcopy()\n",
    "\n",
    "second.append(6)\n",
    "\n",
    "print(first)\n",
    "\n",
    "print(second)"
   ]
  },
  {
   "cell_type": "code",
   "execution_count": 47,
   "id": "3c0c2e0d-5a43-4959-bd97-48162d35f445",
   "metadata": {},
   "outputs": [
    {
     "name": "stdout",
     "output_type": "stream",
     "text": [
      "[9, 8, 7, 6]\n"
     ]
    }
   ],
   "source": [
    "a = [1,2,3,4,5,6,7,8,9]\n",
    "print(a[-1:-5: -1])"
   ]
  },
  {
   "cell_type": "markdown",
   "id": "b4d30864-296e-43a6-8401-ff1941ff9a91",
   "metadata": {},
   "source": [
    "REcursive Approach"
   ]
  },
  {
   "cell_type": "code",
   "execution_count": 64,
   "id": "0e1d052e-bc5a-48f4-ad4b-975979ce0cba",
   "metadata": {},
   "outputs": [
    {
     "data": {
      "text/plain": [
       "5040"
      ]
     },
     "execution_count": 64,
     "metadata": {},
     "output_type": "execute_result"
    }
   ],
   "source": [
    "def factorial(n):\n",
    "    ''' Using Reursion'''\n",
    "    if n < 0:\n",
    "        print(\"Factorial of  negative number doesnt exist\")\n",
    "        return\n",
    "    if n == 0:\n",
    "        return 1\n",
    "    if n==1:\n",
    "        return 1\n",
    "    return n*factorial(n-1)\n",
    "factorial(7)\n",
    "O(n) - for teh call stack"
   ]
  },
  {
   "cell_type": "markdown",
   "id": "75609d21-c887-42d6-a45b-d5ca04cc57df",
   "metadata": {},
   "source": [
    "Iterative approach"
   ]
  },
  {
   "cell_type": "code",
   "execution_count": 72,
   "id": "0d22b0d5-ebe9-4f14-9a17-c74d48641275",
   "metadata": {},
   "outputs": [
    {
     "data": {
      "text/plain": [
       "6"
      ]
     },
     "execution_count": 72,
     "metadata": {},
     "output_type": "execute_result"
    }
   ],
   "source": [
    "def factorail_iterative(n):\n",
    "    # Store the result of factorail 1 in result\n",
    "    if n < 0:\n",
    "        print(\"Factorial of  negative number doesnt exist\")\n",
    "        return\n",
    "    result = 1\n",
    "    for _ in range(2, n+1):\n",
    "        result *= _\n",
    "    return result\n",
    "factorail_iterative(3)"
   ]
  },
  {
   "cell_type": "code",
   "execution_count": 73,
   "id": "e9659525-c05e-4e58-a193-06958edf7840",
   "metadata": {},
   "outputs": [],
   "source": [
    "# Python prgram fo r fibo nCCI SERIES"
   ]
  },
  {
   "cell_type": "code",
   "execution_count": null,
   "id": "caecf0d8-08a9-44af-8d86-4fcff90fa3b5",
   "metadata": {},
   "outputs": [],
   "source": [
    "[0,1,1,2,3,5,8, 13, 21, 34, 55....]`"
   ]
  },
  {
   "cell_type": "code",
   "execution_count": 84,
   "id": "7f3c6a72-f0ef-4d3d-8112-998ee6fcfdac",
   "metadata": {},
   "outputs": [
    {
     "data": {
      "text/plain": [
       "55"
      ]
     },
     "execution_count": 84,
     "metadata": {},
     "output_type": "execute_result"
    }
   ],
   "source": [
    "def fibo(n):\n",
    "    '''\n",
    "    We know that the first and second terms of a fibonacci series is 0,1\n",
    "    '''\n",
    "    if n == 0:\n",
    "        return 0\n",
    "    if n == 1:\n",
    "        return 1\n",
    "    return fibo(n-1) + fibo(n-2)\n",
    "fibo(10)"
   ]
  },
  {
   "cell_type": "code",
   "execution_count": 124,
   "id": "819183ff-5780-4c6d-83eb-b811a37f8331",
   "metadata": {
    "scrolled": true
   },
   "outputs": [
    {
     "name": "stdout",
     "output_type": "stream",
     "text": [
      "0\n",
      "1\n",
      "1\n",
      "2\n",
      "3\n",
      "5\n",
      "8\n",
      "13\n",
      "21\n",
      "34\n",
      "55\n"
     ]
    }
   ],
   "source": [
    "def print_fibo(n):\n",
    "    n0 = 0\n",
    "    n1 = 1\n",
    "    count = 0\n",
    "    # result = []\n",
    "    if n <= 0:\n",
    "        print('Please enter a positive number')\n",
    "        return\n",
    "    elif n == 1:\n",
    "        print(n0)  \n",
    "    else:\n",
    "        while count < n:\n",
    "            print(n0)\n",
    "            with open('out.txt', 'w', encoding= 'utf-8') as f:\n",
    "                f.writelines(str(n0) + '\\n')\n",
    "            # result.append(n0)\n",
    "            n2 = n0 + n1\n",
    "            n0 = n1\n",
    "            n1 = n2\n",
    "            count = count + 1\n",
    "print_fibo(11)\n",
    "# output = print_fibo(11)\n",
    "# output"
   ]
  },
  {
   "cell_type": "code",
   "execution_count": 125,
   "id": "92cd4d6e-a594-4d22-a124-dd36efaa5dcc",
   "metadata": {},
   "outputs": [
    {
     "data": {
      "text/plain": [
       "'55\\n'"
      ]
     },
     "execution_count": 125,
     "metadata": {},
     "output_type": "execute_result"
    }
   ],
   "source": [
    "with open('out.txt' ,'r') as f:\n",
    "    data = f.read()\n",
    "data"
   ]
  },
  {
   "cell_type": "code",
   "execution_count": 115,
   "id": "51a44be9-8f92-4c40-9b3f-aa7a27b2c9e0",
   "metadata": {},
   "outputs": [],
   "source": [
    "import pickle\n",
    "file = open('data2.pkl' ,'wb')\n",
    "pickle.dump(output, file)\n",
    "file.close()\n"
   ]
  },
  {
   "cell_type": "code",
   "execution_count": 117,
   "id": "3b43b1ef-e887-4754-a80e-36f51671e742",
   "metadata": {},
   "outputs": [
    {
     "data": {
      "text/plain": [
       "[0, 1, 1, 2, 3, 5, 8, 13, 21, 34, 55]"
      ]
     },
     "execution_count": 117,
     "metadata": {},
     "output_type": "execute_result"
    }
   ],
   "source": [
    "file = open('data2.pkl', 'rb')\n",
    "data = pickle.load(file)\n",
    "data"
   ]
  },
  {
   "cell_type": "markdown",
   "id": "7c2ee9d9-ff10-4fe8-8ea1-9a9ecd26ae8e",
   "metadata": {},
   "source": [
    "A\n",
    "\n",
    "B\n",
    "\n",
    "C\n",
    "\n",
    "D\n",
    "\n",
    "E\n",
    "\n",
    "F\n",
    "\n"
   ]
  },
  {
   "cell_type": "code",
   "execution_count": null,
   "id": "c3da29fa-4252-4ecf-9605-db81adf6b380",
   "metadata": {},
   "outputs": [],
   "source": []
  },
  {
   "cell_type": "code",
   "execution_count": null,
   "id": "79b2589f-3e2e-4079-bc61-199d283bcdf0",
   "metadata": {},
   "outputs": [],
   "source": []
  },
  {
   "cell_type": "code",
   "execution_count": null,
   "id": "1caba254-ab71-439f-baa7-4fe656b6342a",
   "metadata": {},
   "outputs": [],
   "source": [
    "with open('out.txt', 'w', encoding= 'utf-8') as f:\n",
    "    f.writelines()"
   ]
  },
  {
   "cell_type": "code",
   "execution_count": 133,
   "id": "eba98d2f-a3b2-4957-b37e-08c90b4e2171",
   "metadata": {},
   "outputs": [],
   "source": [
    "def new_gen(n):\n",
    "    counter = 0\n",
    "    while counter < n:\n",
    "        yield counter\n",
    "        counter +=1\n",
    "# for val in new_gen(5):\n",
    "#     print(val)"
   ]
  },
  {
   "cell_type": "code",
   "execution_count": 137,
   "id": "c0640969-2b74-4aa3-89e4-21b6b392633a",
   "metadata": {},
   "outputs": [
    {
     "name": "stdout",
     "output_type": "stream",
     "text": [
      "0\n"
     ]
    }
   ],
   "source": [
    "print(next(new_gen(5)))"
   ]
  },
  {
   "cell_type": "code",
   "execution_count": 139,
   "id": "47da049d-3d02-43de-85b4-7f5b96ee47c9",
   "metadata": {},
   "outputs": [
    {
     "name": "stdout",
     "output_type": "stream",
     "text": [
      "0\n",
      "1\n",
      "2\n"
     ]
    }
   ],
   "source": [
    "generator  = new_gen(5)\n",
    "print(next(generator))\n",
    "print(next(generator))\n",
    "print(next(generator))"
   ]
  },
  {
   "cell_type": "markdown",
   "id": "4a86d7f0-d9fa-497c-97e9-ac426ecb2d54",
   "metadata": {},
   "source": [
    "1\n",
    "\n",
    "1 2\n",
    "\n",
    "1 2 3\n",
    "\n",
    "1 2 3 4"
   ]
  },
  {
   "cell_type": "code",
   "execution_count": 142,
   "id": "325ab00f-3d28-4513-8356-ba42c5246ef3",
   "metadata": {},
   "outputs": [
    {
     "name": "stdout",
     "output_type": "stream",
     "text": [
      "\n",
      "\n",
      "1 \n",
      "\n",
      "1 2 \n",
      "\n",
      "1 2 3 \n",
      "\n",
      "1 2 3 4 \n",
      "\n"
     ]
    }
   ],
   "source": [
    "for i in range(1,6):\n",
    "    for j in range(1,i):\n",
    "        print(j, end=' ')\n",
    "    print('\\n')"
   ]
  },
  {
   "cell_type": "code",
   "execution_count": 143,
   "id": "f1e4c820-1e18-4989-bea9-001a3697528b",
   "metadata": {},
   "outputs": [],
   "source": [
    "def fibo(n):\n",
    "    '''\n",
    "    We know that the first and second terms of a fibonacci series is 0,1\n",
    "    '''\n",
    "    if n == 0:\n",
    "        return 0\n",
    "    if n == 1:\n",
    "        return 1\n",
    "    return fibo(n-1) + fibo(n-2)\n",
    "# fibo(10)"
   ]
  },
  {
   "cell_type": "code",
   "execution_count": 144,
   "id": "0df7c3e0-25fa-45a6-a9b5-d0af3800c376",
   "metadata": {},
   "outputs": [],
   "source": [
    "# DECORATOR FUNCTOON to caculatate the time duration taken by any function"
   ]
  },
  {
   "cell_type": "code",
   "execution_count": 162,
   "id": "eec9d1eb-1c40-47c5-b442-d199895bc09c",
   "metadata": {},
   "outputs": [],
   "source": [
    "import time\n",
    "def func_time(func):\n",
    "    def wrapper(*args, ** kwargs):\n",
    "        # actual functionality starts here\n",
    "        start_time  = time.time()\n",
    "        func(*args, **kwargs)\n",
    "        end_time = time.time()\n",
    "        total_time = end_time - start_time\n",
    "        print('Time taken to run the function execution for : ' , func.__name__, total_time)\n",
    "    return wrapper\n",
    "        "
   ]
  },
  {
   "cell_type": "code",
   "execution_count": 152,
   "id": "22a37b13-d306-4010-9c80-bb6825a0119c",
   "metadata": {},
   "outputs": [],
   "source": [
    "# Calling the decorator with any existing functiom"
   ]
  },
  {
   "cell_type": "code",
   "execution_count": 165,
   "id": "9a0739fc-2c5e-45c6-b1d5-a2bb9bd26559",
   "metadata": {},
   "outputs": [],
   "source": [
    "@func_time\n",
    "def fibo(n):\n",
    "    '''\n",
    "    We know that the first and second terms of a fibonacci series is 0,1\n",
    "    '''\n",
    "    if n == 0:\n",
    "        return 0\n",
    "    if n == 1:\n",
    "        return 1\n",
    "    return fibo(n-1) + fibo(n-2)\n",
    "# fibo(10)"
   ]
  },
  {
   "cell_type": "code",
   "execution_count": 163,
   "id": "d112b968-8b54-44d0-b12b-b396f82a423a",
   "metadata": {},
   "outputs": [],
   "source": [
    "import math\n",
    "@func_time\n",
    "def fibo_2(n):\n",
    "    print(math.factorial(n))"
   ]
  },
  {
   "cell_type": "code",
   "execution_count": 164,
   "id": "11ba31df-2a06-46f5-b22a-0028f12cbef0",
   "metadata": {},
   "outputs": [
    {
     "name": "stdout",
     "output_type": "stream",
     "text": [
      "3628800\n",
      "Time taken to run the function execution for :  fibo_2 3.2901763916015625e-05\n"
     ]
    }
   ],
   "source": [
    "fibo_2(10)"
   ]
  },
  {
   "cell_type": "code",
   "execution_count": 166,
   "id": "b28cbdc9-591e-407c-942d-e6eb57e25cf1",
   "metadata": {},
   "outputs": [
    {
     "name": "stdout",
     "output_type": "stream",
     "text": [
      "Time taken to run the function execution for :  fibo 0.0\n",
      "Time taken to run the function execution for :  fibo 1.1920928955078125e-06\n"
     ]
    },
    {
     "ename": "TypeError",
     "evalue": "unsupported operand type(s) for +: 'NoneType' and 'NoneType'",
     "output_type": "error",
     "traceback": [
      "\u001b[0;31m---------------------------------------------------------------------------\u001b[0m",
      "\u001b[0;31mTypeError\u001b[0m                                 Traceback (most recent call last)",
      "Cell \u001b[0;32mIn[166], line 1\u001b[0m\n\u001b[0;32m----> 1\u001b[0m \u001b[43mfibo\u001b[49m\u001b[43m(\u001b[49m\u001b[38;5;241;43m3\u001b[39;49m\u001b[43m)\u001b[49m\n",
      "Cell \u001b[0;32mIn[162], line 6\u001b[0m, in \u001b[0;36mfunc_time.<locals>.wrapper\u001b[0;34m(*args, **kwargs)\u001b[0m\n\u001b[1;32m      3\u001b[0m \u001b[38;5;28;01mdef\u001b[39;00m \u001b[38;5;21mwrapper\u001b[39m(\u001b[38;5;241m*\u001b[39margs, \u001b[38;5;241m*\u001b[39m\u001b[38;5;241m*\u001b[39m kwargs):\n\u001b[1;32m      4\u001b[0m     \u001b[38;5;66;03m# actual functionality starts here\u001b[39;00m\n\u001b[1;32m      5\u001b[0m     start_time  \u001b[38;5;241m=\u001b[39m time\u001b[38;5;241m.\u001b[39mtime()\n\u001b[0;32m----> 6\u001b[0m     \u001b[43mfunc\u001b[49m\u001b[43m(\u001b[49m\u001b[38;5;241;43m*\u001b[39;49m\u001b[43margs\u001b[49m\u001b[43m,\u001b[49m\u001b[43m \u001b[49m\u001b[38;5;241;43m*\u001b[39;49m\u001b[38;5;241;43m*\u001b[39;49m\u001b[43mkwargs\u001b[49m\u001b[43m)\u001b[49m\n\u001b[1;32m      7\u001b[0m     end_time \u001b[38;5;241m=\u001b[39m time\u001b[38;5;241m.\u001b[39mtime()\n\u001b[1;32m      8\u001b[0m     total_time \u001b[38;5;241m=\u001b[39m end_time \u001b[38;5;241m-\u001b[39m start_time\n",
      "Cell \u001b[0;32mIn[165], line 10\u001b[0m, in \u001b[0;36mfibo\u001b[0;34m(n)\u001b[0m\n\u001b[1;32m      8\u001b[0m \u001b[38;5;28;01mif\u001b[39;00m n \u001b[38;5;241m==\u001b[39m \u001b[38;5;241m1\u001b[39m:\n\u001b[1;32m      9\u001b[0m     \u001b[38;5;28;01mreturn\u001b[39;00m \u001b[38;5;241m1\u001b[39m\n\u001b[0;32m---> 10\u001b[0m \u001b[38;5;28;01mreturn\u001b[39;00m \u001b[43mfibo\u001b[49m\u001b[43m(\u001b[49m\u001b[43mn\u001b[49m\u001b[38;5;241;43m-\u001b[39;49m\u001b[38;5;241;43m1\u001b[39;49m\u001b[43m)\u001b[49m \u001b[38;5;241m+\u001b[39m fibo(n\u001b[38;5;241m-\u001b[39m\u001b[38;5;241m2\u001b[39m)\n",
      "Cell \u001b[0;32mIn[162], line 6\u001b[0m, in \u001b[0;36mfunc_time.<locals>.wrapper\u001b[0;34m(*args, **kwargs)\u001b[0m\n\u001b[1;32m      3\u001b[0m \u001b[38;5;28;01mdef\u001b[39;00m \u001b[38;5;21mwrapper\u001b[39m(\u001b[38;5;241m*\u001b[39margs, \u001b[38;5;241m*\u001b[39m\u001b[38;5;241m*\u001b[39m kwargs):\n\u001b[1;32m      4\u001b[0m     \u001b[38;5;66;03m# actual functionality starts here\u001b[39;00m\n\u001b[1;32m      5\u001b[0m     start_time  \u001b[38;5;241m=\u001b[39m time\u001b[38;5;241m.\u001b[39mtime()\n\u001b[0;32m----> 6\u001b[0m     \u001b[43mfunc\u001b[49m\u001b[43m(\u001b[49m\u001b[38;5;241;43m*\u001b[39;49m\u001b[43margs\u001b[49m\u001b[43m,\u001b[49m\u001b[43m \u001b[49m\u001b[38;5;241;43m*\u001b[39;49m\u001b[38;5;241;43m*\u001b[39;49m\u001b[43mkwargs\u001b[49m\u001b[43m)\u001b[49m\n\u001b[1;32m      7\u001b[0m     end_time \u001b[38;5;241m=\u001b[39m time\u001b[38;5;241m.\u001b[39mtime()\n\u001b[1;32m      8\u001b[0m     total_time \u001b[38;5;241m=\u001b[39m end_time \u001b[38;5;241m-\u001b[39m start_time\n",
      "Cell \u001b[0;32mIn[165], line 10\u001b[0m, in \u001b[0;36mfibo\u001b[0;34m(n)\u001b[0m\n\u001b[1;32m      8\u001b[0m \u001b[38;5;28;01mif\u001b[39;00m n \u001b[38;5;241m==\u001b[39m \u001b[38;5;241m1\u001b[39m:\n\u001b[1;32m      9\u001b[0m     \u001b[38;5;28;01mreturn\u001b[39;00m \u001b[38;5;241m1\u001b[39m\n\u001b[0;32m---> 10\u001b[0m \u001b[38;5;28;01mreturn\u001b[39;00m \u001b[43mfibo\u001b[49m\u001b[43m(\u001b[49m\u001b[43mn\u001b[49m\u001b[38;5;241;43m-\u001b[39;49m\u001b[38;5;241;43m1\u001b[39;49m\u001b[43m)\u001b[49m\u001b[43m \u001b[49m\u001b[38;5;241;43m+\u001b[39;49m\u001b[43m \u001b[49m\u001b[43mfibo\u001b[49m\u001b[43m(\u001b[49m\u001b[43mn\u001b[49m\u001b[38;5;241;43m-\u001b[39;49m\u001b[38;5;241;43m2\u001b[39;49m\u001b[43m)\u001b[49m\n",
      "\u001b[0;31mTypeError\u001b[0m: unsupported operand type(s) for +: 'NoneType' and 'NoneType'"
     ]
    }
   ],
   "source": [
    "fibo(3)"
   ]
  },
  {
   "cell_type": "code",
   "execution_count": 167,
   "id": "d9505120-7d12-43d0-a09a-827ff4fbfcbe",
   "metadata": {},
   "outputs": [
    {
     "name": "stdout",
     "output_type": "stream",
     "text": [
      "<class 'tuple'>\n",
      "<class 'tuple'>\n",
      "<class 'str'>\n"
     ]
    }
   ],
   "source": [
    "A = (\"Python\" , \"Java\")\n",
    "\n",
    "print(type(A))\n",
    "\n",
    "\n",
    "B = (\"Python\", )\n",
    "\n",
    "print(type(B))\n",
    "\n",
    "\n",
    "C = (\"Python\")\n",
    "\n",
    "print(type(C))"
   ]
  },
  {
   "cell_type": "code",
   "execution_count": 169,
   "id": "8ecbde96-91d1-42fb-9489-b1c92def0163",
   "metadata": {},
   "outputs": [
    {
     "data": {
      "text/plain": [
       "([1, 2, 3, 4, 5, 6, 7, 8, 9],)"
      ]
     },
     "execution_count": 169,
     "metadata": {},
     "output_type": "execute_result"
    }
   ],
   "source": [
    "(a,)"
   ]
  },
  {
   "cell_type": "code",
   "execution_count": null,
   "id": "b4c91329-0ad1-42b2-807a-06f389992196",
   "metadata": {},
   "outputs": [],
   "source": []
  }
 ],
 "metadata": {
  "kernelspec": {
   "display_name": "Python 3 (ipykernel)",
   "language": "python",
   "name": "python3"
  },
  "language_info": {
   "codemirror_mode": {
    "name": "ipython",
    "version": 3
   },
   "file_extension": ".py",
   "mimetype": "text/x-python",
   "name": "python",
   "nbconvert_exporter": "python",
   "pygments_lexer": "ipython3",
   "version": "3.9.7"
  }
 },
 "nbformat": 4,
 "nbformat_minor": 5
}
