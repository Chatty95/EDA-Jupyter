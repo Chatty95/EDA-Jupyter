{
 "cells": [
  {
   "cell_type": "code",
   "execution_count": 4,
   "id": "9d9a1c54-e74a-4779-a655-9481ca35587e",
   "metadata": {},
   "outputs": [],
   "source": [
    "str1 = 'india'\n",
    "str2 = 'pak'\n",
    "# 'india-pak'"
   ]
  },
  {
   "cell_type": "code",
   "execution_count": 7,
   "id": "efb7f40d-517b-4a3c-8a00-0cc3dd3c6b6b",
   "metadata": {},
   "outputs": [],
   "source": [
    "# ('-').join(str1)"
   ]
  },
  {
   "cell_type": "code",
   "execution_count": 6,
   "id": "54a747e2-48fd-4db2-ba16-eb6704e55287",
   "metadata": {},
   "outputs": [
    {
     "name": "stdout",
     "output_type": "stream",
     "text": [
      "india-pak\n"
     ]
    }
   ],
   "source": [
    "print('india','pak', sep ='-')"
   ]
  },
  {
   "cell_type": "code",
   "execution_count": 8,
   "id": "140c3f54-8ab3-4bbd-a373-f0969a8d508b",
   "metadata": {},
   "outputs": [
    {
     "name": "stdout",
     "output_type": "stream",
     "text": [
      "10\n",
      "20\n",
      "30\n",
      "40\n",
      "50\n",
      "i am done \n"
     ]
    }
   ],
   "source": [
    "lst = [10,20,30,40,50]\n",
    "for i in lst:\n",
    "    print(i)\n",
    "else:\n",
    "    print(\"i am done \")"
   ]
  },
  {
   "cell_type": "code",
   "execution_count": 9,
   "id": "d0131a28-82b7-4c88-b26d-b03b3698dd7c",
   "metadata": {},
   "outputs": [
    {
     "data": {
      "text/plain": [
       "''"
      ]
     },
     "execution_count": 9,
     "metadata": {},
     "output_type": "execute_result"
    }
   ],
   "source": [
    "s=\"abcdefghij\"\n",
    "s[3:7:-1]\n",
    "# 'dcbaji'"
   ]
  },
  {
   "cell_type": "code",
   "execution_count": 10,
   "id": "59a4cfba-dac0-44fa-8249-1ef69ca81d6e",
   "metadata": {},
   "outputs": [
    {
     "data": {
      "text/plain": [
       "''"
      ]
     },
     "execution_count": 10,
     "metadata": {},
     "output_type": "execute_result"
    }
   ],
   "source": [
    "s[5:0:1]\n",
    "# ''"
   ]
  },
  {
   "cell_type": "code",
   "execution_count": 11,
   "id": "e3f7926a-ed6e-4024-9b82-3c59748c2ece",
   "metadata": {},
   "outputs": [
    {
     "data": {
      "text/plain": [
       "''"
      ]
     },
     "execution_count": 11,
     "metadata": {},
     "output_type": "execute_result"
    }
   ],
   "source": [
    "s[0:-11:1]\n",
    "# ''"
   ]
  },
  {
   "cell_type": "code",
   "execution_count": 12,
   "id": "9ee25e93-3aa7-4b0a-9ea9-ce42eeb60788",
   "metadata": {},
   "outputs": [
    {
     "data": {
      "text/plain": [
       "set()"
      ]
     },
     "execution_count": 12,
     "metadata": {},
     "output_type": "execute_result"
    }
   ],
   "source": [
    "a = set()\n",
    "a"
   ]
  },
  {
   "cell_type": "code",
   "execution_count": 13,
   "id": "b9920f76-d71f-4b46-afac-a6577a373380",
   "metadata": {},
   "outputs": [
    {
     "data": {
      "text/plain": [
       "(1,)"
      ]
     },
     "execution_count": 13,
     "metadata": {},
     "output_type": "execute_result"
    }
   ],
   "source": [
    "b = (1,)\n",
    "b"
   ]
  },
  {
   "cell_type": "code",
   "execution_count": 14,
   "id": "4e215734-c6a7-4c32-9e5f-7a4f6d81c069",
   "metadata": {},
   "outputs": [],
   "source": [
    "def func(arg1, arg2 = None):\n",
    "    pass"
   ]
  },
  {
   "cell_type": "code",
   "execution_count": 16,
   "id": "925067a9-8e7a-4eee-8d83-613bfff39224",
   "metadata": {},
   "outputs": [],
   "source": [
    "def func2(*arg, **kwarg):\n",
    "    pass"
   ]
  },
  {
   "cell_type": "code",
   "execution_count": null,
   "id": "4a1414d2-2182-4192-974a-9e90f640339d",
   "metadata": {},
   "outputs": [],
   "source": [
    "# * - []\n",
    "# ** - dict() or {}"
   ]
  },
  {
   "cell_type": "code",
   "execution_count": null,
   "id": "60d58c20-055c-4d80-8bee-e86b26e5ba25",
   "metadata": {},
   "outputs": [],
   "source": [
    "arg = []\n",
    "arg[3]\n",
    "for key, val in kwarg:\n",
    "    print(key, val)"
   ]
  },
  {
   "cell_type": "code",
   "execution_count": 17,
   "id": "75f2f4d7-1695-4070-a216-d6db3400d047",
   "metadata": {},
   "outputs": [
    {
     "name": "stdout",
     "output_type": "stream",
     "text": [
      "2\n",
      "1\n",
      "3\n"
     ]
    }
   ],
   "source": [
    "def func4(a,b,c):\n",
    "    print(b)\n",
    "    print(a)\n",
    "    print(c)\n",
    "func4(1,2,3)"
   ]
  },
  {
   "cell_type": "code",
   "execution_count": null,
   "id": "e6876ceb-4c4b-445a-9b92-3f15d4f21677",
   "metadata": {},
   "outputs": [],
   "source": [
    "file = open('filename.ext','r')\n",
    "file = open('filename.ext','w') # text mode\n",
    "file = open('filename.ext','rb') # read in binary\n",
    "file = open('filename.ext','wb') # write in binary\n",
    "file = open('filename.ext','r + b') # read and write in binary\n",
    "file = open('filename.ext','r + w + a + b')"
   ]
  },
  {
   "cell_type": "code",
   "execution_count": null,
   "id": "1c24497e-deb3-4a06-a5ff-a15593f093a1",
   "metadata": {},
   "outputs": [],
   "source": [
    "# Student\n",
    "# It has name, marks"
   ]
  },
  {
   "cell_type": "code",
   "execution_count": 18,
   "id": "b569b637-7012-46eb-bfe9-75e5647ae055",
   "metadata": {},
   "outputs": [],
   "source": [
    "class Student:\n",
    "    def __init__(self, name, marks):\n",
    "        self.name = name\n",
    "        self.marks = marks"
   ]
  },
  {
   "cell_type": "code",
   "execution_count": 19,
   "id": "ef94bbea-3d2b-4a17-b6be-2af31bf06713",
   "metadata": {},
   "outputs": [],
   "source": [
    "s1 = Student(\"Soham\", 90)"
   ]
  },
  {
   "cell_type": "code",
   "execution_count": 20,
   "id": "b7389c23-8cfd-421d-92aa-cef175677366",
   "metadata": {},
   "outputs": [
    {
     "data": {
      "text/plain": [
       "'Soham'"
      ]
     },
     "execution_count": 20,
     "metadata": {},
     "output_type": "execute_result"
    }
   ],
   "source": [
    "s1.name"
   ]
  },
  {
   "cell_type": "code",
   "execution_count": 21,
   "id": "70d2a766-12cb-45c8-9e5c-42f74302fbc1",
   "metadata": {},
   "outputs": [
    {
     "data": {
      "text/plain": [
       "90"
      ]
     },
     "execution_count": 21,
     "metadata": {},
     "output_type": "execute_result"
    }
   ],
   "source": [
    "s1.marks"
   ]
  },
  {
   "cell_type": "code",
   "execution_count": null,
   "id": "a9674978-603b-47d6-84e1-b2439f452e60",
   "metadata": {},
   "outputs": [],
   "source": [
    "# Define class people\n",
    "# people has name, age, marks\n",
    "# Inheritence"
   ]
  },
  {
   "cell_type": "code",
   "execution_count": 22,
   "id": "50943c48-3355-46dd-9be1-a2ef89cedf8f",
   "metadata": {},
   "outputs": [],
   "source": [
    "class People(Student):\n",
    "    def __init__(self, name, age, marks):\n",
    "        self.age = age\n",
    "        Student.__init__(self, name, marks)"
   ]
  },
  {
   "cell_type": "code",
   "execution_count": 23,
   "id": "198353f0-5705-4b50-964d-7995dd5aa71b",
   "metadata": {},
   "outputs": [],
   "source": [
    "p1 = People(\"Mohan\", 12, 95)"
   ]
  },
  {
   "cell_type": "code",
   "execution_count": 24,
   "id": "c9104dc4-15b1-4fa4-8e7f-a3b90a838f9c",
   "metadata": {},
   "outputs": [
    {
     "data": {
      "text/plain": [
       "'Mohan'"
      ]
     },
     "execution_count": 24,
     "metadata": {},
     "output_type": "execute_result"
    }
   ],
   "source": [
    "p1.name"
   ]
  },
  {
   "cell_type": "code",
   "execution_count": 25,
   "id": "6771ae36-5a48-4110-bc5d-f24f8b9fd7a8",
   "metadata": {},
   "outputs": [
    {
     "data": {
      "text/plain": [
       "12"
      ]
     },
     "execution_count": 25,
     "metadata": {},
     "output_type": "execute_result"
    }
   ],
   "source": [
    "p1.age"
   ]
  },
  {
   "cell_type": "code",
   "execution_count": 26,
   "id": "2e4a80b7-1939-419f-8e30-e9486fe1c20c",
   "metadata": {},
   "outputs": [
    {
     "data": {
      "text/plain": [
       "95"
      ]
     },
     "execution_count": 26,
     "metadata": {},
     "output_type": "execute_result"
    }
   ],
   "source": [
    "p1.marks"
   ]
  },
  {
   "cell_type": "code",
   "execution_count": 32,
   "id": "4db05ff4-bd99-4ac0-8113-175d5301e783",
   "metadata": {},
   "outputs": [],
   "source": [
    "def func5(a ,b):\n",
    "    return a + b"
   ]
  },
  {
   "cell_type": "code",
   "execution_count": 33,
   "id": "debb44ae-dfe0-47ee-be71-7a1085612465",
   "metadata": {},
   "outputs": [],
   "source": [
    "def func5(c,d,e):\n",
    "    return a+b+c"
   ]
  },
  {
   "cell_type": "code",
   "execution_count": null,
   "id": "bd3b7b1f-824f-4d11-a17f-dc1319a371e9",
   "metadata": {},
   "outputs": [],
   "source": [
    "func5(1,2)\n",
    "func5(3,4,5)"
   ]
  },
  {
   "cell_type": "code",
   "execution_count": 34,
   "id": "f357257d-6560-45ed-9aa5-748d16d26d2d",
   "metadata": {},
   "outputs": [
    {
     "ename": "TypeError",
     "evalue": "func5() missing 1 required positional argument: 'e'",
     "output_type": "error",
     "traceback": [
      "\u001b[0;31m---------------------------------------------------------------------------\u001b[0m",
      "\u001b[0;31mTypeError\u001b[0m                                 Traceback (most recent call last)",
      "Cell \u001b[0;32mIn[34], line 1\u001b[0m\n\u001b[0;32m----> 1\u001b[0m \u001b[43mfunc5\u001b[49m\u001b[43m(\u001b[49m\u001b[38;5;241;43m1\u001b[39;49m\u001b[43m,\u001b[49m\u001b[38;5;241;43m2\u001b[39;49m\u001b[43m)\u001b[49m\n",
      "\u001b[0;31mTypeError\u001b[0m: func5() missing 1 required positional argument: 'e'"
     ]
    }
   ],
   "source": [
    "func5(1,2)"
   ]
  },
  {
   "cell_type": "code",
   "execution_count": 29,
   "id": "d332dd0e-8ed0-4ce7-b631-4ea72276bbaf",
   "metadata": {},
   "outputs": [],
   "source": [
    "def func5(*arg):\n",
    "    return sum(arg)"
   ]
  },
  {
   "cell_type": "code",
   "execution_count": 30,
   "id": "1aef1c59-a71b-454d-975b-1e7d6eaa7daf",
   "metadata": {},
   "outputs": [
    {
     "data": {
      "text/plain": [
       "3"
      ]
     },
     "execution_count": 30,
     "metadata": {},
     "output_type": "execute_result"
    }
   ],
   "source": [
    "func5(1,2)"
   ]
  },
  {
   "cell_type": "code",
   "execution_count": 31,
   "id": "ac309952-52a3-4f66-8910-a1581f93df5f",
   "metadata": {},
   "outputs": [
    {
     "data": {
      "text/plain": [
       "6"
      ]
     },
     "execution_count": 31,
     "metadata": {},
     "output_type": "execute_result"
    }
   ],
   "source": [
    "func5(1,2,3)"
   ]
  },
  {
   "cell_type": "code",
   "execution_count": null,
   "id": "dac37a0a-8b2f-40c8-aed3-de93b3ad679a",
   "metadata": {},
   "outputs": [],
   "source": []
  }
 ],
 "metadata": {
  "kernelspec": {
   "display_name": "Python 3 (ipykernel)",
   "language": "python",
   "name": "python3"
  },
  "language_info": {
   "codemirror_mode": {
    "name": "ipython",
    "version": 3
   },
   "file_extension": ".py",
   "mimetype": "text/x-python",
   "name": "python",
   "nbconvert_exporter": "python",
   "pygments_lexer": "ipython3",
   "version": "3.9.7"
  }
 },
 "nbformat": 4,
 "nbformat_minor": 5
}
