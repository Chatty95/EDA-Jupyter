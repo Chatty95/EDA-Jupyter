{
 "cells": [
  {
   "cell_type": "code",
   "execution_count": 214,
   "id": "4ae57f84-1491-44dc-a6f6-703a57e8fe81",
   "metadata": {},
   "outputs": [],
   "source": [
    "# Use Shift + Tab for function signature"
   ]
  },
  {
   "cell_type": "code",
   "execution_count": 3,
   "id": "f95d1c7e-1113-4934-af94-d36f0e2a1ea3",
   "metadata": {},
   "outputs": [],
   "source": [
    "import pandas as pd"
   ]
  },
  {
   "cell_type": "code",
   "execution_count": 204,
   "id": "0a93e7e0-f7a8-4a2a-9cee-a828e22507a5",
   "metadata": {},
   "outputs": [],
   "source": [
    "info_dict = {\n",
    "    'Name' : ['Priyang', 'Aradhya','Krishna','Vedant','Parshv','Mittal', 'Archana','Radhika'],\n",
    "    'Marks' : [90, 82, 51, 76, 95, 60, 42, 76],\n",
    "    'Gender' : ['Male', 'Female', 'Male', 'Male', 'Male', 'Male', 'Female','Female'],\n",
    "    'Weight' : [55,49,58,61,48,52,62, 54]\n",
    "}"
   ]
  },
  {
   "cell_type": "code",
   "execution_count": 205,
   "id": "6dfd661a-166f-4cdd-82d6-4c67cf261e93",
   "metadata": {},
   "outputs": [
    {
     "data": {
      "text/html": [
       "<div>\n",
       "<style scoped>\n",
       "    .dataframe tbody tr th:only-of-type {\n",
       "        vertical-align: middle;\n",
       "    }\n",
       "\n",
       "    .dataframe tbody tr th {\n",
       "        vertical-align: top;\n",
       "    }\n",
       "\n",
       "    .dataframe thead th {\n",
       "        text-align: right;\n",
       "    }\n",
       "</style>\n",
       "<table border=\"1\" class=\"dataframe\">\n",
       "  <thead>\n",
       "    <tr style=\"text-align: right;\">\n",
       "      <th></th>\n",
       "      <th>Name</th>\n",
       "      <th>Marks</th>\n",
       "      <th>Gender</th>\n",
       "      <th>Weight</th>\n",
       "    </tr>\n",
       "  </thead>\n",
       "  <tbody>\n",
       "    <tr>\n",
       "      <th>Priyang</th>\n",
       "      <td>Priyang</td>\n",
       "      <td>90</td>\n",
       "      <td>Male</td>\n",
       "      <td>55</td>\n",
       "    </tr>\n",
       "    <tr>\n",
       "      <th>Aradhya</th>\n",
       "      <td>Aradhya</td>\n",
       "      <td>82</td>\n",
       "      <td>Female</td>\n",
       "      <td>49</td>\n",
       "    </tr>\n",
       "    <tr>\n",
       "      <th>Krishna</th>\n",
       "      <td>Krishna</td>\n",
       "      <td>51</td>\n",
       "      <td>Male</td>\n",
       "      <td>58</td>\n",
       "    </tr>\n",
       "    <tr>\n",
       "      <th>Vedant</th>\n",
       "      <td>Vedant</td>\n",
       "      <td>76</td>\n",
       "      <td>Male</td>\n",
       "      <td>61</td>\n",
       "    </tr>\n",
       "    <tr>\n",
       "      <th>Parshv</th>\n",
       "      <td>Parshv</td>\n",
       "      <td>95</td>\n",
       "      <td>Male</td>\n",
       "      <td>48</td>\n",
       "    </tr>\n",
       "    <tr>\n",
       "      <th>Mittal</th>\n",
       "      <td>Mittal</td>\n",
       "      <td>60</td>\n",
       "      <td>Male</td>\n",
       "      <td>52</td>\n",
       "    </tr>\n",
       "    <tr>\n",
       "      <th>Archana</th>\n",
       "      <td>Archana</td>\n",
       "      <td>42</td>\n",
       "      <td>Female</td>\n",
       "      <td>62</td>\n",
       "    </tr>\n",
       "    <tr>\n",
       "      <th>Radhika</th>\n",
       "      <td>Radhika</td>\n",
       "      <td>76</td>\n",
       "      <td>Female</td>\n",
       "      <td>54</td>\n",
       "    </tr>\n",
       "  </tbody>\n",
       "</table>\n",
       "</div>"
      ],
      "text/plain": [
       "            Name  Marks  Gender  Weight\n",
       "Priyang  Priyang     90    Male      55\n",
       "Aradhya  Aradhya     82  Female      49\n",
       "Krishna  Krishna     51    Male      58\n",
       "Vedant    Vedant     76    Male      61\n",
       "Parshv    Parshv     95    Male      48\n",
       "Mittal    Mittal     60    Male      52\n",
       "Archana  Archana     42  Female      62\n",
       "Radhika  Radhika     76  Female      54"
      ]
     },
     "execution_count": 205,
     "metadata": {},
     "output_type": "execute_result"
    }
   ],
   "source": [
    "info_df = pd.DataFrame(info_dict, index=info_dict['Name'])\n",
    "info_df"
   ]
  },
  {
   "cell_type": "markdown",
   "id": "8fc4e698-10fc-4c43-ab14-0adac4f3a1b9",
   "metadata": {},
   "source": [
    "### Display top 3 rows of the dataframe"
   ]
  },
  {
   "cell_type": "code",
   "execution_count": 19,
   "id": "beca9007-73dd-4359-80cd-0b0c0990885e",
   "metadata": {},
   "outputs": [
    {
     "data": {
      "text/html": [
       "<div>\n",
       "<style scoped>\n",
       "    .dataframe tbody tr th:only-of-type {\n",
       "        vertical-align: middle;\n",
       "    }\n",
       "\n",
       "    .dataframe tbody tr th {\n",
       "        vertical-align: top;\n",
       "    }\n",
       "\n",
       "    .dataframe thead th {\n",
       "        text-align: right;\n",
       "    }\n",
       "</style>\n",
       "<table border=\"1\" class=\"dataframe\">\n",
       "  <thead>\n",
       "    <tr style=\"text-align: right;\">\n",
       "      <th></th>\n",
       "      <th>Name</th>\n",
       "      <th>Marks</th>\n",
       "      <th>Gender</th>\n",
       "    </tr>\n",
       "  </thead>\n",
       "  <tbody>\n",
       "    <tr>\n",
       "      <th>0</th>\n",
       "      <td>Priyang</td>\n",
       "      <td>90</td>\n",
       "      <td>Male</td>\n",
       "    </tr>\n",
       "    <tr>\n",
       "      <th>1</th>\n",
       "      <td>Aradhya</td>\n",
       "      <td>92</td>\n",
       "      <td>Female</td>\n",
       "    </tr>\n",
       "    <tr>\n",
       "      <th>2</th>\n",
       "      <td>Krishna</td>\n",
       "      <td>91</td>\n",
       "      <td>Male</td>\n",
       "    </tr>\n",
       "  </tbody>\n",
       "</table>\n",
       "</div>"
      ],
      "text/plain": [
       "      Name  Marks  Gender\n",
       "0  Priyang     90    Male\n",
       "1  Aradhya     92  Female\n",
       "2  Krishna     91    Male"
      ]
     },
     "execution_count": 19,
     "metadata": {},
     "output_type": "execute_result"
    }
   ],
   "source": [
    "info_df.head(3)"
   ]
  },
  {
   "cell_type": "markdown",
   "id": "8e05c633-3027-4382-b21f-977d4e8e7add",
   "metadata": {},
   "source": [
    "### Display last 3 rows of the dataframe"
   ]
  },
  {
   "cell_type": "code",
   "execution_count": 20,
   "id": "107f32c7-ada6-415c-bd76-c15482f1e65c",
   "metadata": {},
   "outputs": [
    {
     "data": {
      "text/html": [
       "<div>\n",
       "<style scoped>\n",
       "    .dataframe tbody tr th:only-of-type {\n",
       "        vertical-align: middle;\n",
       "    }\n",
       "\n",
       "    .dataframe tbody tr th {\n",
       "        vertical-align: top;\n",
       "    }\n",
       "\n",
       "    .dataframe thead th {\n",
       "        text-align: right;\n",
       "    }\n",
       "</style>\n",
       "<table border=\"1\" class=\"dataframe\">\n",
       "  <thead>\n",
       "    <tr style=\"text-align: right;\">\n",
       "      <th></th>\n",
       "      <th>Name</th>\n",
       "      <th>Marks</th>\n",
       "      <th>Gender</th>\n",
       "    </tr>\n",
       "  </thead>\n",
       "  <tbody>\n",
       "    <tr>\n",
       "      <th>4</th>\n",
       "      <td>Parshv</td>\n",
       "      <td>95</td>\n",
       "      <td>Male</td>\n",
       "    </tr>\n",
       "    <tr>\n",
       "      <th>5</th>\n",
       "      <td>Mittal</td>\n",
       "      <td>90</td>\n",
       "      <td>Male</td>\n",
       "    </tr>\n",
       "    <tr>\n",
       "      <th>6</th>\n",
       "      <td>Archana</td>\n",
       "      <td>92</td>\n",
       "      <td>Female</td>\n",
       "    </tr>\n",
       "  </tbody>\n",
       "</table>\n",
       "</div>"
      ],
      "text/plain": [
       "      Name  Marks  Gender\n",
       "4   Parshv     95    Male\n",
       "5   Mittal     90    Male\n",
       "6  Archana     92  Female"
      ]
     },
     "execution_count": 20,
     "metadata": {},
     "output_type": "execute_result"
    }
   ],
   "source": [
    "info_df.tail(3)"
   ]
  },
  {
   "cell_type": "markdown",
   "id": "d0fa547c-c1ed-4753-902e-76d4fd95c787",
   "metadata": {},
   "source": [
    "### Find shape of the dataset (rows and columns)"
   ]
  },
  {
   "cell_type": "code",
   "execution_count": 23,
   "id": "021f37b3-55ce-43af-a6cd-ced27c19623e",
   "metadata": {},
   "outputs": [
    {
     "data": {
      "text/plain": [
       "(7, 3)"
      ]
     },
     "execution_count": 23,
     "metadata": {},
     "output_type": "execute_result"
    }
   ],
   "source": [
    "info_df.shape"
   ]
  },
  {
   "cell_type": "markdown",
   "id": "0ffaa10c-51d1-4a23-b8ff-4e792a241e3f",
   "metadata": {},
   "source": [
    "### Get basic information about the dataset (No. of row, columsn, memory requirement, datatypes)"
   ]
  },
  {
   "cell_type": "code",
   "execution_count": 25,
   "id": "23186788-2655-48af-86ce-e7ee732e7b26",
   "metadata": {},
   "outputs": [
    {
     "name": "stdout",
     "output_type": "stream",
     "text": [
      "<class 'pandas.core.frame.DataFrame'>\n",
      "RangeIndex: 7 entries, 0 to 6\n",
      "Data columns (total 3 columns):\n",
      " #   Column  Non-Null Count  Dtype \n",
      "---  ------  --------------  ----- \n",
      " 0   Name    7 non-null      object\n",
      " 1   Marks   7 non-null      int64 \n",
      " 2   Gender  7 non-null      object\n",
      "dtypes: int64(1), object(2)\n",
      "memory usage: 296.0+ bytes\n"
     ]
    }
   ],
   "source": [
    "info_df.info()"
   ]
  },
  {
   "cell_type": "markdown",
   "id": "c0b8e26e-92c9-406c-b9d0-85fb1cea5ba2",
   "metadata": {},
   "source": [
    "### Check for null-values"
   ]
  },
  {
   "cell_type": "code",
   "execution_count": 29,
   "id": "ba6e495e-e0bb-45c2-b923-a3a92c464b2c",
   "metadata": {},
   "outputs": [
    {
     "data": {
      "text/html": [
       "<div>\n",
       "<style scoped>\n",
       "    .dataframe tbody tr th:only-of-type {\n",
       "        vertical-align: middle;\n",
       "    }\n",
       "\n",
       "    .dataframe tbody tr th {\n",
       "        vertical-align: top;\n",
       "    }\n",
       "\n",
       "    .dataframe thead th {\n",
       "        text-align: right;\n",
       "    }\n",
       "</style>\n",
       "<table border=\"1\" class=\"dataframe\">\n",
       "  <thead>\n",
       "    <tr style=\"text-align: right;\">\n",
       "      <th></th>\n",
       "      <th>Name</th>\n",
       "      <th>Marks</th>\n",
       "      <th>Gender</th>\n",
       "    </tr>\n",
       "  </thead>\n",
       "  <tbody>\n",
       "    <tr>\n",
       "      <th>0</th>\n",
       "      <td>False</td>\n",
       "      <td>False</td>\n",
       "      <td>False</td>\n",
       "    </tr>\n",
       "    <tr>\n",
       "      <th>1</th>\n",
       "      <td>False</td>\n",
       "      <td>False</td>\n",
       "      <td>False</td>\n",
       "    </tr>\n",
       "    <tr>\n",
       "      <th>2</th>\n",
       "      <td>False</td>\n",
       "      <td>False</td>\n",
       "      <td>False</td>\n",
       "    </tr>\n",
       "    <tr>\n",
       "      <th>3</th>\n",
       "      <td>False</td>\n",
       "      <td>False</td>\n",
       "      <td>False</td>\n",
       "    </tr>\n",
       "    <tr>\n",
       "      <th>4</th>\n",
       "      <td>False</td>\n",
       "      <td>False</td>\n",
       "      <td>False</td>\n",
       "    </tr>\n",
       "    <tr>\n",
       "      <th>5</th>\n",
       "      <td>False</td>\n",
       "      <td>False</td>\n",
       "      <td>False</td>\n",
       "    </tr>\n",
       "    <tr>\n",
       "      <th>6</th>\n",
       "      <td>False</td>\n",
       "      <td>False</td>\n",
       "      <td>False</td>\n",
       "    </tr>\n",
       "  </tbody>\n",
       "</table>\n",
       "</div>"
      ],
      "text/plain": [
       "    Name  Marks  Gender\n",
       "0  False  False   False\n",
       "1  False  False   False\n",
       "2  False  False   False\n",
       "3  False  False   False\n",
       "4  False  False   False\n",
       "5  False  False   False\n",
       "6  False  False   False"
      ]
     },
     "execution_count": 29,
     "metadata": {},
     "output_type": "execute_result"
    }
   ],
   "source": [
    "info_df.isnull() # isna also works"
   ]
  },
  {
   "cell_type": "code",
   "execution_count": 36,
   "id": "90fcb9ca-54d7-43eb-b991-9edb19aad556",
   "metadata": {},
   "outputs": [
    {
     "data": {
      "text/plain": [
       "Name      0\n",
       "Marks     0\n",
       "Gender    0\n",
       "dtype: int64"
      ]
     },
     "execution_count": 36,
     "metadata": {},
     "output_type": "execute_result"
    }
   ],
   "source": [
    "info_df.isnull().sum(axis = 0) # default is axis 0"
   ]
  },
  {
   "cell_type": "code",
   "execution_count": 33,
   "id": "47dcedc7-8029-441a-87ce-f49eb7ea9a5c",
   "metadata": {},
   "outputs": [
    {
     "data": {
      "text/plain": [
       "0    0\n",
       "1    0\n",
       "2    0\n",
       "3    0\n",
       "4    0\n",
       "5    0\n",
       "6    0\n",
       "dtype: int64"
      ]
     },
     "execution_count": 33,
     "metadata": {},
     "output_type": "execute_result"
    }
   ],
   "source": [
    "info_df.isnull().sum(axis=1)"
   ]
  },
  {
   "cell_type": "markdown",
   "id": "28716908-6b9e-4177-9331-4439d5cd944f",
   "metadata": {},
   "source": [
    "### Get overall statistics about the dataframe"
   ]
  },
  {
   "cell_type": "code",
   "execution_count": 37,
   "id": "ab1a3c5a-daa3-42be-94f9-55ad44a23fba",
   "metadata": {},
   "outputs": [
    {
     "data": {
      "text/html": [
       "<div>\n",
       "<style scoped>\n",
       "    .dataframe tbody tr th:only-of-type {\n",
       "        vertical-align: middle;\n",
       "    }\n",
       "\n",
       "    .dataframe tbody tr th {\n",
       "        vertical-align: top;\n",
       "    }\n",
       "\n",
       "    .dataframe thead th {\n",
       "        text-align: right;\n",
       "    }\n",
       "</style>\n",
       "<table border=\"1\" class=\"dataframe\">\n",
       "  <thead>\n",
       "    <tr style=\"text-align: right;\">\n",
       "      <th></th>\n",
       "      <th>Marks</th>\n",
       "    </tr>\n",
       "  </thead>\n",
       "  <tbody>\n",
       "    <tr>\n",
       "      <th>count</th>\n",
       "      <td>7.000000</td>\n",
       "    </tr>\n",
       "    <tr>\n",
       "      <th>mean</th>\n",
       "      <td>92.285714</td>\n",
       "    </tr>\n",
       "    <tr>\n",
       "      <th>std</th>\n",
       "      <td>2.360387</td>\n",
       "    </tr>\n",
       "    <tr>\n",
       "      <th>min</th>\n",
       "      <td>90.000000</td>\n",
       "    </tr>\n",
       "    <tr>\n",
       "      <th>25%</th>\n",
       "      <td>90.500000</td>\n",
       "    </tr>\n",
       "    <tr>\n",
       "      <th>50%</th>\n",
       "      <td>92.000000</td>\n",
       "    </tr>\n",
       "    <tr>\n",
       "      <th>75%</th>\n",
       "      <td>93.500000</td>\n",
       "    </tr>\n",
       "    <tr>\n",
       "      <th>max</th>\n",
       "      <td>96.000000</td>\n",
       "    </tr>\n",
       "  </tbody>\n",
       "</table>\n",
       "</div>"
      ],
      "text/plain": [
       "           Marks\n",
       "count   7.000000\n",
       "mean   92.285714\n",
       "std     2.360387\n",
       "min    90.000000\n",
       "25%    90.500000\n",
       "50%    92.000000\n",
       "75%    93.500000\n",
       "max    96.000000"
      ]
     },
     "execution_count": 37,
     "metadata": {},
     "output_type": "execute_result"
    }
   ],
   "source": [
    "info_df.describe() # By default gives information about numberical columns"
   ]
  },
  {
   "cell_type": "code",
   "execution_count": 40,
   "id": "4aee3dc2-d8d2-401c-aee1-be2784dc4613",
   "metadata": {},
   "outputs": [
    {
     "data": {
      "text/html": [
       "<div>\n",
       "<style scoped>\n",
       "    .dataframe tbody tr th:only-of-type {\n",
       "        vertical-align: middle;\n",
       "    }\n",
       "\n",
       "    .dataframe tbody tr th {\n",
       "        vertical-align: top;\n",
       "    }\n",
       "\n",
       "    .dataframe thead th {\n",
       "        text-align: right;\n",
       "    }\n",
       "</style>\n",
       "<table border=\"1\" class=\"dataframe\">\n",
       "  <thead>\n",
       "    <tr style=\"text-align: right;\">\n",
       "      <th></th>\n",
       "      <th>Name</th>\n",
       "      <th>Marks</th>\n",
       "      <th>Gender</th>\n",
       "    </tr>\n",
       "  </thead>\n",
       "  <tbody>\n",
       "    <tr>\n",
       "      <th>count</th>\n",
       "      <td>7</td>\n",
       "      <td>7.000000</td>\n",
       "      <td>7</td>\n",
       "    </tr>\n",
       "    <tr>\n",
       "      <th>unique</th>\n",
       "      <td>7</td>\n",
       "      <td>NaN</td>\n",
       "      <td>2</td>\n",
       "    </tr>\n",
       "    <tr>\n",
       "      <th>top</th>\n",
       "      <td>Priyang</td>\n",
       "      <td>NaN</td>\n",
       "      <td>Male</td>\n",
       "    </tr>\n",
       "    <tr>\n",
       "      <th>freq</th>\n",
       "      <td>1</td>\n",
       "      <td>NaN</td>\n",
       "      <td>5</td>\n",
       "    </tr>\n",
       "    <tr>\n",
       "      <th>mean</th>\n",
       "      <td>NaN</td>\n",
       "      <td>92.285714</td>\n",
       "      <td>NaN</td>\n",
       "    </tr>\n",
       "    <tr>\n",
       "      <th>std</th>\n",
       "      <td>NaN</td>\n",
       "      <td>2.360387</td>\n",
       "      <td>NaN</td>\n",
       "    </tr>\n",
       "    <tr>\n",
       "      <th>min</th>\n",
       "      <td>NaN</td>\n",
       "      <td>90.000000</td>\n",
       "      <td>NaN</td>\n",
       "    </tr>\n",
       "    <tr>\n",
       "      <th>25%</th>\n",
       "      <td>NaN</td>\n",
       "      <td>90.500000</td>\n",
       "      <td>NaN</td>\n",
       "    </tr>\n",
       "    <tr>\n",
       "      <th>50%</th>\n",
       "      <td>NaN</td>\n",
       "      <td>92.000000</td>\n",
       "      <td>NaN</td>\n",
       "    </tr>\n",
       "    <tr>\n",
       "      <th>75%</th>\n",
       "      <td>NaN</td>\n",
       "      <td>93.500000</td>\n",
       "      <td>NaN</td>\n",
       "    </tr>\n",
       "    <tr>\n",
       "      <th>max</th>\n",
       "      <td>NaN</td>\n",
       "      <td>96.000000</td>\n",
       "      <td>NaN</td>\n",
       "    </tr>\n",
       "  </tbody>\n",
       "</table>\n",
       "</div>"
      ],
      "text/plain": [
       "           Name      Marks Gender\n",
       "count         7   7.000000      7\n",
       "unique        7        NaN      2\n",
       "top     Priyang        NaN   Male\n",
       "freq          1        NaN      5\n",
       "mean        NaN  92.285714    NaN\n",
       "std         NaN   2.360387    NaN\n",
       "min         NaN  90.000000    NaN\n",
       "25%         NaN  90.500000    NaN\n",
       "50%         NaN  92.000000    NaN\n",
       "75%         NaN  93.500000    NaN\n",
       "max         NaN  96.000000    NaN"
      ]
     },
     "execution_count": 40,
     "metadata": {},
     "output_type": "execute_result"
    }
   ],
   "source": [
    "info_df.describe(include ='all') # Inclues numerical as well as categorical columns"
   ]
  },
  {
   "cell_type": "markdown",
   "id": "66e2e175-baee-438f-a0eb-fa785f5af400",
   "metadata": {},
   "source": [
    "### Find unique values from the gender column"
   ]
  },
  {
   "cell_type": "code",
   "execution_count": 56,
   "id": "b2391ec4-400d-4f85-9d1b-92bf636ca097",
   "metadata": {},
   "outputs": [
    {
     "data": {
      "text/plain": [
       "array(['Male', 'Female'], dtype=object)"
      ]
     },
     "execution_count": 56,
     "metadata": {},
     "output_type": "execute_result"
    }
   ],
   "source": [
    "info_df['Gender'].unique()"
   ]
  },
  {
   "cell_type": "markdown",
   "id": "91f7d33a-47c5-4d6c-a55b-49d824d32297",
   "metadata": {},
   "source": [
    "### Find number of unique values from the gender column"
   ]
  },
  {
   "cell_type": "code",
   "execution_count": 57,
   "id": "93950846-ccd1-44b7-98bd-66a20268fa90",
   "metadata": {},
   "outputs": [
    {
     "data": {
      "text/plain": [
       "2"
      ]
     },
     "execution_count": 57,
     "metadata": {},
     "output_type": "execute_result"
    }
   ],
   "source": [
    "info_df['Gender'].nunique()"
   ]
  },
  {
   "cell_type": "markdown",
   "id": "3491829b-fbdb-4506-8bec-d6b5eb33b06c",
   "metadata": {},
   "source": [
    "### Find count of unique values from the gender column"
   ]
  },
  {
   "cell_type": "code",
   "execution_count": 68,
   "id": "b6d9f42a-5fc3-41f0-b515-6ccfbe09c537",
   "metadata": {},
   "outputs": [
    {
     "data": {
      "text/html": [
       "<div>\n",
       "<style scoped>\n",
       "    .dataframe tbody tr th:only-of-type {\n",
       "        vertical-align: middle;\n",
       "    }\n",
       "\n",
       "    .dataframe tbody tr th {\n",
       "        vertical-align: top;\n",
       "    }\n",
       "\n",
       "    .dataframe thead th {\n",
       "        text-align: right;\n",
       "    }\n",
       "</style>\n",
       "<table border=\"1\" class=\"dataframe\">\n",
       "  <thead>\n",
       "    <tr style=\"text-align: right;\">\n",
       "      <th></th>\n",
       "      <th>Name</th>\n",
       "      <th>Marks</th>\n",
       "    </tr>\n",
       "    <tr>\n",
       "      <th>Gender</th>\n",
       "      <th></th>\n",
       "      <th></th>\n",
       "    </tr>\n",
       "  </thead>\n",
       "  <tbody>\n",
       "    <tr>\n",
       "      <th>Female</th>\n",
       "      <td>2</td>\n",
       "      <td>2</td>\n",
       "    </tr>\n",
       "    <tr>\n",
       "      <th>Male</th>\n",
       "      <td>5</td>\n",
       "      <td>5</td>\n",
       "    </tr>\n",
       "  </tbody>\n",
       "</table>\n",
       "</div>"
      ],
      "text/plain": [
       "        Name  Marks\n",
       "Gender             \n",
       "Female     2      2\n",
       "Male       5      5"
      ]
     },
     "execution_count": 68,
     "metadata": {},
     "output_type": "execute_result"
    }
   ],
   "source": [
    "info_df.groupby('Gender').count()"
   ]
  },
  {
   "cell_type": "code",
   "execution_count": 74,
   "id": "c395518d-966e-471f-8b07-4f421244ce2e",
   "metadata": {},
   "outputs": [
    {
     "data": {
      "text/plain": [
       "Gender\n",
       "Male      5\n",
       "Female    2\n",
       "Name: count, dtype: int64"
      ]
     },
     "execution_count": 74,
     "metadata": {},
     "output_type": "execute_result"
    }
   ],
   "source": [
    "info_df['Gender'].value_counts() ## preferred way using value_counts"
   ]
  },
  {
   "cell_type": "markdown",
   "id": "a7eedd17-fe0d-4b3c-8ab7-62dd7b97a5eb",
   "metadata": {},
   "source": [
    "### Find total no of students having marks between 95 and 100`"
   ]
  },
  {
   "cell_type": "markdown",
   "id": "c058c77b-10fb-4d6b-acf6-f23e80b16d6b",
   "metadata": {},
   "source": [
    "#### Using boolean indexing"
   ]
  },
  {
   "cell_type": "code",
   "execution_count": 112,
   "id": "f7168fe6-041d-4702-b605-14798e2a4be8",
   "metadata": {},
   "outputs": [
    {
     "data": {
      "text/plain": [
       "0    False\n",
       "1    False\n",
       "2    False\n",
       "3     True\n",
       "4     True\n",
       "5    False\n",
       "6    False\n",
       "Name: Marks, dtype: bool"
      ]
     },
     "execution_count": 112,
     "metadata": {},
     "output_type": "execute_result"
    }
   ],
   "source": [
    "contd = (info_df['Marks'] >= 95) & (info_df['Marks'] <=100) # Brackets needed / Boolean series is generated / Can be used for indexing\n",
    "contd"
   ]
  },
  {
   "cell_type": "code",
   "execution_count": 108,
   "id": "97d878ee-74b2-4fe3-ab69-522fbaa59508",
   "metadata": {},
   "outputs": [
    {
     "data": {
      "text/plain": [
       "2"
      ]
     },
     "execution_count": 108,
     "metadata": {},
     "output_type": "execute_result"
    }
   ],
   "source": [
    "len(info_df[contd]) # Using length we can find out the count"
   ]
  },
  {
   "cell_type": "code",
   "execution_count": 103,
   "id": "bb2a9da4-e7ee-458d-a4fa-f2d9d327a588",
   "metadata": {},
   "outputs": [
    {
     "data": {
      "text/plain": [
       "3    Vedant\n",
       "4    Parshv\n",
       "Name: Name, dtype: object"
      ]
     },
     "execution_count": 103,
     "metadata": {},
     "output_type": "execute_result"
    }
   ],
   "source": [
    "info_df[contd]['Name']"
   ]
  },
  {
   "cell_type": "markdown",
   "id": "3965016d-d23f-4d1b-b25b-052458546edc",
   "metadata": {},
   "source": [
    "#### Using between method / Both inclusive"
   ]
  },
  {
   "cell_type": "code",
   "execution_count": 115,
   "id": "27893b35-a58d-4943-915d-22471f8bc05f",
   "metadata": {},
   "outputs": [
    {
     "data": {
      "text/plain": [
       "2"
      ]
     },
     "execution_count": 115,
     "metadata": {},
     "output_type": "execute_result"
    }
   ],
   "source": [
    "sum(info_df['Marks'].between(95, 100)) # Use sum to find the total numbers"
   ]
  },
  {
   "cell_type": "markdown",
   "id": "3a6ad9c0-511e-4f46-942a-83dd6b0ef286",
   "metadata": {},
   "source": [
    "###  Find average marks"
   ]
  },
  {
   "cell_type": "code",
   "execution_count": 117,
   "id": "67b9518d-9c52-4159-b793-5d7abba6cb89",
   "metadata": {},
   "outputs": [
    {
     "data": {
      "text/plain": [
       "92.28571428571429"
      ]
     },
     "execution_count": 117,
     "metadata": {},
     "output_type": "execute_result"
    }
   ],
   "source": [
    "info_df['Marks'].mean()"
   ]
  },
  {
   "cell_type": "markdown",
   "id": "686f4915-db75-4831-b884-cb4890ac950f",
   "metadata": {},
   "source": [
    "### Apply Method (To define user defined functions on a cloumn value)"
   ]
  },
  {
   "cell_type": "markdown",
   "id": "b99519cd-1d8a-4f28-9bc7-6962ffa853ef",
   "metadata": {},
   "source": [
    "#### Without lambda function"
   ]
  },
  {
   "cell_type": "code",
   "execution_count": 157,
   "id": "0a0d5f09-5c5f-4e2f-8386-89e6078ddd4b",
   "metadata": {},
   "outputs": [],
   "source": [
    "def marks(x):\n",
    "    grade_dict = {\n",
    "        90 : 'A+',\n",
    "        80 : 'A',\n",
    "        70 : 'B+',\n",
    "        60 : 'B',\n",
    "        50 : 'C'\n",
    "    }\n",
    "    if x//10 * 10 < 50:\n",
    "        return 'D'\n",
    "    return grade_dict[(x//10) * 10]"
   ]
  },
  {
   "cell_type": "code",
   "execution_count": 158,
   "id": "3432d008-b991-4a7a-b6ac-ab960924dbcc",
   "metadata": {},
   "outputs": [
    {
     "data": {
      "text/html": [
       "<div>\n",
       "<style scoped>\n",
       "    .dataframe tbody tr th:only-of-type {\n",
       "        vertical-align: middle;\n",
       "    }\n",
       "\n",
       "    .dataframe tbody tr th {\n",
       "        vertical-align: top;\n",
       "    }\n",
       "\n",
       "    .dataframe thead th {\n",
       "        text-align: right;\n",
       "    }\n",
       "</style>\n",
       "<table border=\"1\" class=\"dataframe\">\n",
       "  <thead>\n",
       "    <tr style=\"text-align: right;\">\n",
       "      <th></th>\n",
       "      <th>Name</th>\n",
       "      <th>Marks</th>\n",
       "      <th>Gender</th>\n",
       "      <th>Weight</th>\n",
       "      <th>Grade</th>\n",
       "    </tr>\n",
       "  </thead>\n",
       "  <tbody>\n",
       "    <tr>\n",
       "      <th>0</th>\n",
       "      <td>Priyang</td>\n",
       "      <td>90</td>\n",
       "      <td>Male</td>\n",
       "      <td>55</td>\n",
       "      <td>A+</td>\n",
       "    </tr>\n",
       "    <tr>\n",
       "      <th>1</th>\n",
       "      <td>Aradhya</td>\n",
       "      <td>82</td>\n",
       "      <td>Female</td>\n",
       "      <td>49</td>\n",
       "      <td>A</td>\n",
       "    </tr>\n",
       "    <tr>\n",
       "      <th>2</th>\n",
       "      <td>Krishna</td>\n",
       "      <td>51</td>\n",
       "      <td>Male</td>\n",
       "      <td>58</td>\n",
       "      <td>C</td>\n",
       "    </tr>\n",
       "    <tr>\n",
       "      <th>3</th>\n",
       "      <td>Vedant</td>\n",
       "      <td>76</td>\n",
       "      <td>Male</td>\n",
       "      <td>61</td>\n",
       "      <td>B+</td>\n",
       "    </tr>\n",
       "    <tr>\n",
       "      <th>4</th>\n",
       "      <td>Parshv</td>\n",
       "      <td>95</td>\n",
       "      <td>Male</td>\n",
       "      <td>48</td>\n",
       "      <td>A+</td>\n",
       "    </tr>\n",
       "    <tr>\n",
       "      <th>5</th>\n",
       "      <td>Mittal</td>\n",
       "      <td>60</td>\n",
       "      <td>Male</td>\n",
       "      <td>52</td>\n",
       "      <td>B</td>\n",
       "    </tr>\n",
       "    <tr>\n",
       "      <th>6</th>\n",
       "      <td>Archana</td>\n",
       "      <td>42</td>\n",
       "      <td>Female</td>\n",
       "      <td>62</td>\n",
       "      <td>D</td>\n",
       "    </tr>\n",
       "  </tbody>\n",
       "</table>\n",
       "</div>"
      ],
      "text/plain": [
       "      Name  Marks  Gender  Weight Grade\n",
       "0  Priyang     90    Male      55    A+\n",
       "1  Aradhya     82  Female      49     A\n",
       "2  Krishna     51    Male      58     C\n",
       "3   Vedant     76    Male      61    B+\n",
       "4   Parshv     95    Male      48    A+\n",
       "5   Mittal     60    Male      52     B\n",
       "6  Archana     42  Female      62     D"
      ]
     },
     "execution_count": 158,
     "metadata": {},
     "output_type": "execute_result"
    }
   ],
   "source": [
    "info_df['Grade'] = info_df['Marks'].apply(marks)\n",
    "info_df"
   ]
  },
  {
   "cell_type": "markdown",
   "id": "97560582-e30f-427c-b980-ec37caa9efc6",
   "metadata": {},
   "source": [
    "#### With Lambda function (anonymous)"
   ]
  },
  {
   "cell_type": "code",
   "execution_count": 159,
   "id": "0b53553f-06ef-40cd-9db0-90ab1cc69497",
   "metadata": {},
   "outputs": [],
   "source": [
    "info_df['Remarks'] = info_df['Grade'].apply(lambda x : 'Above avergae' if x in ['A+','A','B+','B','C+','C'] else 'Below average')"
   ]
  },
  {
   "cell_type": "code",
   "execution_count": 160,
   "id": "4b4712da-c085-4cff-b763-aa43299b3a7a",
   "metadata": {},
   "outputs": [
    {
     "data": {
      "text/html": [
       "<div>\n",
       "<style scoped>\n",
       "    .dataframe tbody tr th:only-of-type {\n",
       "        vertical-align: middle;\n",
       "    }\n",
       "\n",
       "    .dataframe tbody tr th {\n",
       "        vertical-align: top;\n",
       "    }\n",
       "\n",
       "    .dataframe thead th {\n",
       "        text-align: right;\n",
       "    }\n",
       "</style>\n",
       "<table border=\"1\" class=\"dataframe\">\n",
       "  <thead>\n",
       "    <tr style=\"text-align: right;\">\n",
       "      <th></th>\n",
       "      <th>Name</th>\n",
       "      <th>Marks</th>\n",
       "      <th>Gender</th>\n",
       "      <th>Weight</th>\n",
       "      <th>Grade</th>\n",
       "      <th>Remarks</th>\n",
       "    </tr>\n",
       "  </thead>\n",
       "  <tbody>\n",
       "    <tr>\n",
       "      <th>0</th>\n",
       "      <td>Priyang</td>\n",
       "      <td>90</td>\n",
       "      <td>Male</td>\n",
       "      <td>55</td>\n",
       "      <td>A+</td>\n",
       "      <td>Above avergae</td>\n",
       "    </tr>\n",
       "    <tr>\n",
       "      <th>1</th>\n",
       "      <td>Aradhya</td>\n",
       "      <td>82</td>\n",
       "      <td>Female</td>\n",
       "      <td>49</td>\n",
       "      <td>A</td>\n",
       "      <td>Above avergae</td>\n",
       "    </tr>\n",
       "    <tr>\n",
       "      <th>2</th>\n",
       "      <td>Krishna</td>\n",
       "      <td>51</td>\n",
       "      <td>Male</td>\n",
       "      <td>58</td>\n",
       "      <td>C</td>\n",
       "      <td>Above avergae</td>\n",
       "    </tr>\n",
       "    <tr>\n",
       "      <th>3</th>\n",
       "      <td>Vedant</td>\n",
       "      <td>76</td>\n",
       "      <td>Male</td>\n",
       "      <td>61</td>\n",
       "      <td>B+</td>\n",
       "      <td>Above avergae</td>\n",
       "    </tr>\n",
       "    <tr>\n",
       "      <th>4</th>\n",
       "      <td>Parshv</td>\n",
       "      <td>95</td>\n",
       "      <td>Male</td>\n",
       "      <td>48</td>\n",
       "      <td>A+</td>\n",
       "      <td>Above avergae</td>\n",
       "    </tr>\n",
       "    <tr>\n",
       "      <th>5</th>\n",
       "      <td>Mittal</td>\n",
       "      <td>60</td>\n",
       "      <td>Male</td>\n",
       "      <td>52</td>\n",
       "      <td>B</td>\n",
       "      <td>Above avergae</td>\n",
       "    </tr>\n",
       "    <tr>\n",
       "      <th>6</th>\n",
       "      <td>Archana</td>\n",
       "      <td>42</td>\n",
       "      <td>Female</td>\n",
       "      <td>62</td>\n",
       "      <td>D</td>\n",
       "      <td>Below average</td>\n",
       "    </tr>\n",
       "  </tbody>\n",
       "</table>\n",
       "</div>"
      ],
      "text/plain": [
       "      Name  Marks  Gender  Weight Grade        Remarks\n",
       "0  Priyang     90    Male      55    A+  Above avergae\n",
       "1  Aradhya     82  Female      49     A  Above avergae\n",
       "2  Krishna     51    Male      58     C  Above avergae\n",
       "3   Vedant     76    Male      61    B+  Above avergae\n",
       "4   Parshv     95    Male      48    A+  Above avergae\n",
       "5   Mittal     60    Male      52     B  Above avergae\n",
       "6  Archana     42  Female      62     D  Below average"
      ]
     },
     "execution_count": 160,
     "metadata": {},
     "output_type": "execute_result"
    }
   ],
   "source": [
    "info_df"
   ]
  },
  {
   "cell_type": "markdown",
   "id": "eb2f467a-86eb-43fa-9fcb-4314f9a7324e",
   "metadata": {},
   "source": [
    "#### With in-built functions"
   ]
  },
  {
   "cell_type": "code",
   "execution_count": 161,
   "id": "8711e899-f072-4bfe-b5de-0e054799a32b",
   "metadata": {},
   "outputs": [
    {
     "data": {
      "text/plain": [
       "0    7\n",
       "1    7\n",
       "2    7\n",
       "3    6\n",
       "4    6\n",
       "5    6\n",
       "6    7\n",
       "Name: Name, dtype: int64"
      ]
     },
     "execution_count": 161,
     "metadata": {},
     "output_type": "execute_result"
    }
   ],
   "source": [
    "info_df['Name'].apply(len)"
   ]
  },
  {
   "cell_type": "markdown",
   "id": "a8c3b6c5-2417-4545-9105-67c3eadb72e5",
   "metadata": {},
   "source": [
    "### Map function"
   ]
  },
  {
   "cell_type": "code",
   "execution_count": 164,
   "id": "9a440efc-27e2-485d-a1c0-5f4d00546c9b",
   "metadata": {},
   "outputs": [],
   "source": [
    "info_df['Gender Map']= info_df['Gender'].map({'Male' : 1, 'Female' : 2})"
   ]
  },
  {
   "cell_type": "code",
   "execution_count": 165,
   "id": "fdff236e-b8a4-4bb4-9e42-83e350b5d039",
   "metadata": {},
   "outputs": [
    {
     "data": {
      "text/html": [
       "<div>\n",
       "<style scoped>\n",
       "    .dataframe tbody tr th:only-of-type {\n",
       "        vertical-align: middle;\n",
       "    }\n",
       "\n",
       "    .dataframe tbody tr th {\n",
       "        vertical-align: top;\n",
       "    }\n",
       "\n",
       "    .dataframe thead th {\n",
       "        text-align: right;\n",
       "    }\n",
       "</style>\n",
       "<table border=\"1\" class=\"dataframe\">\n",
       "  <thead>\n",
       "    <tr style=\"text-align: right;\">\n",
       "      <th></th>\n",
       "      <th>Name</th>\n",
       "      <th>Marks</th>\n",
       "      <th>Gender</th>\n",
       "      <th>Weight</th>\n",
       "      <th>Grade</th>\n",
       "      <th>Remarks</th>\n",
       "      <th>Gender Map</th>\n",
       "    </tr>\n",
       "  </thead>\n",
       "  <tbody>\n",
       "    <tr>\n",
       "      <th>0</th>\n",
       "      <td>Priyang</td>\n",
       "      <td>90</td>\n",
       "      <td>Male</td>\n",
       "      <td>55</td>\n",
       "      <td>A+</td>\n",
       "      <td>Above avergae</td>\n",
       "      <td>1</td>\n",
       "    </tr>\n",
       "    <tr>\n",
       "      <th>1</th>\n",
       "      <td>Aradhya</td>\n",
       "      <td>82</td>\n",
       "      <td>Female</td>\n",
       "      <td>49</td>\n",
       "      <td>A</td>\n",
       "      <td>Above avergae</td>\n",
       "      <td>2</td>\n",
       "    </tr>\n",
       "    <tr>\n",
       "      <th>2</th>\n",
       "      <td>Krishna</td>\n",
       "      <td>51</td>\n",
       "      <td>Male</td>\n",
       "      <td>58</td>\n",
       "      <td>C</td>\n",
       "      <td>Above avergae</td>\n",
       "      <td>1</td>\n",
       "    </tr>\n",
       "    <tr>\n",
       "      <th>3</th>\n",
       "      <td>Vedant</td>\n",
       "      <td>76</td>\n",
       "      <td>Male</td>\n",
       "      <td>61</td>\n",
       "      <td>B+</td>\n",
       "      <td>Above avergae</td>\n",
       "      <td>1</td>\n",
       "    </tr>\n",
       "    <tr>\n",
       "      <th>4</th>\n",
       "      <td>Parshv</td>\n",
       "      <td>95</td>\n",
       "      <td>Male</td>\n",
       "      <td>48</td>\n",
       "      <td>A+</td>\n",
       "      <td>Above avergae</td>\n",
       "      <td>1</td>\n",
       "    </tr>\n",
       "    <tr>\n",
       "      <th>5</th>\n",
       "      <td>Mittal</td>\n",
       "      <td>60</td>\n",
       "      <td>Male</td>\n",
       "      <td>52</td>\n",
       "      <td>B</td>\n",
       "      <td>Above avergae</td>\n",
       "      <td>1</td>\n",
       "    </tr>\n",
       "    <tr>\n",
       "      <th>6</th>\n",
       "      <td>Archana</td>\n",
       "      <td>42</td>\n",
       "      <td>Female</td>\n",
       "      <td>62</td>\n",
       "      <td>D</td>\n",
       "      <td>Below average</td>\n",
       "      <td>2</td>\n",
       "    </tr>\n",
       "  </tbody>\n",
       "</table>\n",
       "</div>"
      ],
      "text/plain": [
       "      Name  Marks  Gender  Weight Grade        Remarks  Gender Map\n",
       "0  Priyang     90    Male      55    A+  Above avergae           1\n",
       "1  Aradhya     82  Female      49     A  Above avergae           2\n",
       "2  Krishna     51    Male      58     C  Above avergae           1\n",
       "3   Vedant     76    Male      61    B+  Above avergae           1\n",
       "4   Parshv     95    Male      48    A+  Above avergae           1\n",
       "5   Mittal     60    Male      52     B  Above avergae           1\n",
       "6  Archana     42  Female      62     D  Below average           2"
      ]
     },
     "execution_count": 165,
     "metadata": {},
     "output_type": "execute_result"
    }
   ],
   "source": [
    "info_df"
   ]
  },
  {
   "cell_type": "markdown",
   "id": "aa923cf1-541b-4be1-a5b5-16954e6f6900",
   "metadata": {},
   "source": [
    "### Drop column(s)"
   ]
  },
  {
   "cell_type": "code",
   "execution_count": 180,
   "id": "8b22e5f8-e7c6-4b48-a6de-d58d21e7da30",
   "metadata": {},
   "outputs": [
    {
     "data": {
      "text/html": [
       "<div>\n",
       "<style scoped>\n",
       "    .dataframe tbody tr th:only-of-type {\n",
       "        vertical-align: middle;\n",
       "    }\n",
       "\n",
       "    .dataframe tbody tr th {\n",
       "        vertical-align: top;\n",
       "    }\n",
       "\n",
       "    .dataframe thead th {\n",
       "        text-align: right;\n",
       "    }\n",
       "</style>\n",
       "<table border=\"1\" class=\"dataframe\">\n",
       "  <thead>\n",
       "    <tr style=\"text-align: right;\">\n",
       "      <th></th>\n",
       "      <th>Name</th>\n",
       "      <th>Marks</th>\n",
       "      <th>Gender</th>\n",
       "      <th>Grade</th>\n",
       "      <th>Remarks</th>\n",
       "    </tr>\n",
       "  </thead>\n",
       "  <tbody>\n",
       "    <tr>\n",
       "      <th>0</th>\n",
       "      <td>Priyang</td>\n",
       "      <td>90</td>\n",
       "      <td>Male</td>\n",
       "      <td>A+</td>\n",
       "      <td>Above avergae</td>\n",
       "    </tr>\n",
       "    <tr>\n",
       "      <th>1</th>\n",
       "      <td>Aradhya</td>\n",
       "      <td>82</td>\n",
       "      <td>Female</td>\n",
       "      <td>A</td>\n",
       "      <td>Above avergae</td>\n",
       "    </tr>\n",
       "    <tr>\n",
       "      <th>2</th>\n",
       "      <td>Krishna</td>\n",
       "      <td>51</td>\n",
       "      <td>Male</td>\n",
       "      <td>C</td>\n",
       "      <td>Above avergae</td>\n",
       "    </tr>\n",
       "    <tr>\n",
       "      <th>3</th>\n",
       "      <td>Vedant</td>\n",
       "      <td>76</td>\n",
       "      <td>Male</td>\n",
       "      <td>B+</td>\n",
       "      <td>Above avergae</td>\n",
       "    </tr>\n",
       "    <tr>\n",
       "      <th>4</th>\n",
       "      <td>Parshv</td>\n",
       "      <td>95</td>\n",
       "      <td>Male</td>\n",
       "      <td>A+</td>\n",
       "      <td>Above avergae</td>\n",
       "    </tr>\n",
       "    <tr>\n",
       "      <th>5</th>\n",
       "      <td>Mittal</td>\n",
       "      <td>60</td>\n",
       "      <td>Male</td>\n",
       "      <td>B</td>\n",
       "      <td>Above avergae</td>\n",
       "    </tr>\n",
       "    <tr>\n",
       "      <th>6</th>\n",
       "      <td>Archana</td>\n",
       "      <td>42</td>\n",
       "      <td>Female</td>\n",
       "      <td>D</td>\n",
       "      <td>Below average</td>\n",
       "    </tr>\n",
       "  </tbody>\n",
       "</table>\n",
       "</div>"
      ],
      "text/plain": [
       "      Name  Marks  Gender Grade        Remarks\n",
       "0  Priyang     90    Male    A+  Above avergae\n",
       "1  Aradhya     82  Female     A  Above avergae\n",
       "2  Krishna     51    Male     C  Above avergae\n",
       "3   Vedant     76    Male    B+  Above avergae\n",
       "4   Parshv     95    Male    A+  Above avergae\n",
       "5   Mittal     60    Male     B  Above avergae\n",
       "6  Archana     42  Female     D  Below average"
      ]
     },
     "execution_count": 180,
     "metadata": {},
     "output_type": "execute_result"
    }
   ],
   "source": [
    "info_df.drop(['Gender Map', 'Weight'], axis = 1, inplace = True)\n",
    "info_df"
   ]
  },
  {
   "cell_type": "markdown",
   "id": "2e2e71bc-504f-40e9-8732-8d298c322a1d",
   "metadata": {},
   "source": [
    "### Display names of columns"
   ]
  },
  {
   "cell_type": "code",
   "execution_count": 187,
   "id": "80726449-b01c-43d9-8bb8-b8cfb5801464",
   "metadata": {},
   "outputs": [
    {
     "data": {
      "text/plain": [
       "Index(['Name', 'Marks', 'Gender', 'Grade', 'Remarks'], dtype='object')"
      ]
     },
     "execution_count": 187,
     "metadata": {},
     "output_type": "execute_result"
    }
   ],
   "source": [
    "info_df.columns # Attribute of a pandas dataframe"
   ]
  },
  {
   "cell_type": "markdown",
   "id": "1e645857-390a-4a3d-a75d-03481abdf17f",
   "metadata": {},
   "source": [
    "### Display names of rows"
   ]
  },
  {
   "cell_type": "code",
   "execution_count": 193,
   "id": "fd23a62f-16a0-42ad-b68e-6c6d4049879a",
   "metadata": {},
   "outputs": [
    {
     "data": {
      "text/plain": [
       "Index(['Priyang', 'Aradhya', 'Krishna', 'Vedant', 'Parshv', 'Mittal',\n",
       "       'Archana'],\n",
       "      dtype='object')"
      ]
     },
     "execution_count": 193,
     "metadata": {},
     "output_type": "execute_result"
    }
   ],
   "source": [
    "info_df.index"
   ]
  },
  {
   "cell_type": "markdown",
   "id": "0d6bdd86-77ee-4241-8ff3-e7621847b23c",
   "metadata": {},
   "source": [
    "### Sort the dataframe as per the marks columns"
   ]
  },
  {
   "cell_type": "code",
   "execution_count": 198,
   "id": "109e1874-2f2f-4714-836c-4e26e073edf7",
   "metadata": {},
   "outputs": [
    {
     "data": {
      "text/plain": [
       "Aradhya    82\n",
       "Archana    42\n",
       "Krishna    51\n",
       "Mittal     60\n",
       "Parshv     95\n",
       "Priyang    90\n",
       "Vedant     76\n",
       "Name: Marks, dtype: int64"
      ]
     },
     "execution_count": 198,
     "metadata": {},
     "output_type": "execute_result"
    }
   ],
   "source": [
    "info_df['Marks'].sort_index()"
   ]
  },
  {
   "cell_type": "code",
   "execution_count": 209,
   "id": "0d3aa85e-057b-40f9-9c2b-294a11d121a5",
   "metadata": {},
   "outputs": [
    {
     "data": {
      "text/html": [
       "<div>\n",
       "<style scoped>\n",
       "    .dataframe tbody tr th:only-of-type {\n",
       "        vertical-align: middle;\n",
       "    }\n",
       "\n",
       "    .dataframe tbody tr th {\n",
       "        vertical-align: top;\n",
       "    }\n",
       "\n",
       "    .dataframe thead th {\n",
       "        text-align: right;\n",
       "    }\n",
       "</style>\n",
       "<table border=\"1\" class=\"dataframe\">\n",
       "  <thead>\n",
       "    <tr style=\"text-align: right;\">\n",
       "      <th></th>\n",
       "      <th>Name</th>\n",
       "      <th>Marks</th>\n",
       "      <th>Gender</th>\n",
       "      <th>Weight</th>\n",
       "    </tr>\n",
       "  </thead>\n",
       "  <tbody>\n",
       "    <tr>\n",
       "      <th>Archana</th>\n",
       "      <td>Archana</td>\n",
       "      <td>42</td>\n",
       "      <td>Female</td>\n",
       "      <td>62</td>\n",
       "    </tr>\n",
       "    <tr>\n",
       "      <th>Krishna</th>\n",
       "      <td>Krishna</td>\n",
       "      <td>51</td>\n",
       "      <td>Male</td>\n",
       "      <td>58</td>\n",
       "    </tr>\n",
       "    <tr>\n",
       "      <th>Mittal</th>\n",
       "      <td>Mittal</td>\n",
       "      <td>60</td>\n",
       "      <td>Male</td>\n",
       "      <td>52</td>\n",
       "    </tr>\n",
       "    <tr>\n",
       "      <th>Vedant</th>\n",
       "      <td>Vedant</td>\n",
       "      <td>76</td>\n",
       "      <td>Male</td>\n",
       "      <td>61</td>\n",
       "    </tr>\n",
       "    <tr>\n",
       "      <th>Radhika</th>\n",
       "      <td>Radhika</td>\n",
       "      <td>76</td>\n",
       "      <td>Female</td>\n",
       "      <td>54</td>\n",
       "    </tr>\n",
       "    <tr>\n",
       "      <th>Aradhya</th>\n",
       "      <td>Aradhya</td>\n",
       "      <td>82</td>\n",
       "      <td>Female</td>\n",
       "      <td>49</td>\n",
       "    </tr>\n",
       "    <tr>\n",
       "      <th>Priyang</th>\n",
       "      <td>Priyang</td>\n",
       "      <td>90</td>\n",
       "      <td>Male</td>\n",
       "      <td>55</td>\n",
       "    </tr>\n",
       "    <tr>\n",
       "      <th>Parshv</th>\n",
       "      <td>Parshv</td>\n",
       "      <td>95</td>\n",
       "      <td>Male</td>\n",
       "      <td>48</td>\n",
       "    </tr>\n",
       "  </tbody>\n",
       "</table>\n",
       "</div>"
      ],
      "text/plain": [
       "            Name  Marks  Gender  Weight\n",
       "Archana  Archana     42  Female      62\n",
       "Krishna  Krishna     51    Male      58\n",
       "Mittal    Mittal     60    Male      52\n",
       "Vedant    Vedant     76    Male      61\n",
       "Radhika  Radhika     76  Female      54\n",
       "Aradhya  Aradhya     82  Female      49\n",
       "Priyang  Priyang     90    Male      55\n",
       "Parshv    Parshv     95    Male      48"
      ]
     },
     "execution_count": 209,
     "metadata": {},
     "output_type": "execute_result"
    }
   ],
   "source": [
    "info_df.sort_values(by='Marks') # Better way using sort_values function"
   ]
  },
  {
   "cell_type": "markdown",
   "id": "9d21b9ae-4aa2-4bb0-acff-c5aedb24e282",
   "metadata": {},
   "source": [
    "#### Sort values by more than one column"
   ]
  },
  {
   "cell_type": "code",
   "execution_count": 215,
   "id": "6fb9179b-77ff-46dd-a082-2790d7973f21",
   "metadata": {},
   "outputs": [
    {
     "data": {
      "text/html": [
       "<div>\n",
       "<style scoped>\n",
       "    .dataframe tbody tr th:only-of-type {\n",
       "        vertical-align: middle;\n",
       "    }\n",
       "\n",
       "    .dataframe tbody tr th {\n",
       "        vertical-align: top;\n",
       "    }\n",
       "\n",
       "    .dataframe thead th {\n",
       "        text-align: right;\n",
       "    }\n",
       "</style>\n",
       "<table border=\"1\" class=\"dataframe\">\n",
       "  <thead>\n",
       "    <tr style=\"text-align: right;\">\n",
       "      <th></th>\n",
       "      <th>Name</th>\n",
       "      <th>Marks</th>\n",
       "      <th>Gender</th>\n",
       "      <th>Weight</th>\n",
       "    </tr>\n",
       "  </thead>\n",
       "  <tbody>\n",
       "    <tr>\n",
       "      <th>Parshv</th>\n",
       "      <td>Parshv</td>\n",
       "      <td>95</td>\n",
       "      <td>Male</td>\n",
       "      <td>48</td>\n",
       "    </tr>\n",
       "    <tr>\n",
       "      <th>Priyang</th>\n",
       "      <td>Priyang</td>\n",
       "      <td>90</td>\n",
       "      <td>Male</td>\n",
       "      <td>55</td>\n",
       "    </tr>\n",
       "    <tr>\n",
       "      <th>Aradhya</th>\n",
       "      <td>Aradhya</td>\n",
       "      <td>82</td>\n",
       "      <td>Female</td>\n",
       "      <td>49</td>\n",
       "    </tr>\n",
       "    <tr>\n",
       "      <th>Vedant</th>\n",
       "      <td>Vedant</td>\n",
       "      <td>76</td>\n",
       "      <td>Male</td>\n",
       "      <td>61</td>\n",
       "    </tr>\n",
       "    <tr>\n",
       "      <th>Radhika</th>\n",
       "      <td>Radhika</td>\n",
       "      <td>76</td>\n",
       "      <td>Female</td>\n",
       "      <td>54</td>\n",
       "    </tr>\n",
       "    <tr>\n",
       "      <th>Mittal</th>\n",
       "      <td>Mittal</td>\n",
       "      <td>60</td>\n",
       "      <td>Male</td>\n",
       "      <td>52</td>\n",
       "    </tr>\n",
       "    <tr>\n",
       "      <th>Krishna</th>\n",
       "      <td>Krishna</td>\n",
       "      <td>51</td>\n",
       "      <td>Male</td>\n",
       "      <td>58</td>\n",
       "    </tr>\n",
       "    <tr>\n",
       "      <th>Archana</th>\n",
       "      <td>Archana</td>\n",
       "      <td>42</td>\n",
       "      <td>Female</td>\n",
       "      <td>62</td>\n",
       "    </tr>\n",
       "  </tbody>\n",
       "</table>\n",
       "</div>"
      ],
      "text/plain": [
       "            Name  Marks  Gender  Weight\n",
       "Parshv    Parshv     95    Male      48\n",
       "Priyang  Priyang     90    Male      55\n",
       "Aradhya  Aradhya     82  Female      49\n",
       "Vedant    Vedant     76    Male      61\n",
       "Radhika  Radhika     76  Female      54\n",
       "Mittal    Mittal     60    Male      52\n",
       "Krishna  Krishna     51    Male      58\n",
       "Archana  Archana     42  Female      62"
      ]
     },
     "execution_count": 215,
     "metadata": {},
     "output_type": "execute_result"
    }
   ],
   "source": [
    "info_df.sort_values(by=['Marks','Name'], ascending=False)"
   ]
  },
  {
   "cell_type": "markdown",
   "id": "6473e361-b345-48b2-9d2c-9b4f9d7bc37a",
   "metadata": {},
   "source": [
    "### Display Name and Marks of the female students"
   ]
  },
  {
   "cell_type": "markdown",
   "id": "b90d203e-ea3a-4d49-8964-370ced98f807",
   "metadata": {},
   "source": [
    "#### Using boolean indexing"
   ]
  },
  {
   "cell_type": "code",
   "execution_count": 228,
   "id": "989218ce-b4b6-4f3d-892e-2cc464755bf6",
   "metadata": {},
   "outputs": [
    {
     "data": {
      "text/html": [
       "<div>\n",
       "<style scoped>\n",
       "    .dataframe tbody tr th:only-of-type {\n",
       "        vertical-align: middle;\n",
       "    }\n",
       "\n",
       "    .dataframe tbody tr th {\n",
       "        vertical-align: top;\n",
       "    }\n",
       "\n",
       "    .dataframe thead th {\n",
       "        text-align: right;\n",
       "    }\n",
       "</style>\n",
       "<table border=\"1\" class=\"dataframe\">\n",
       "  <thead>\n",
       "    <tr style=\"text-align: right;\">\n",
       "      <th></th>\n",
       "      <th>Marks</th>\n",
       "      <th>Name</th>\n",
       "    </tr>\n",
       "  </thead>\n",
       "  <tbody>\n",
       "    <tr>\n",
       "      <th>Aradhya</th>\n",
       "      <td>82</td>\n",
       "      <td>Aradhya</td>\n",
       "    </tr>\n",
       "    <tr>\n",
       "      <th>Archana</th>\n",
       "      <td>42</td>\n",
       "      <td>Archana</td>\n",
       "    </tr>\n",
       "    <tr>\n",
       "      <th>Radhika</th>\n",
       "      <td>76</td>\n",
       "      <td>Radhika</td>\n",
       "    </tr>\n",
       "  </tbody>\n",
       "</table>\n",
       "</div>"
      ],
      "text/plain": [
       "         Marks     Name\n",
       "Aradhya     82  Aradhya\n",
       "Archana     42  Archana\n",
       "Radhika     76  Radhika"
      ]
     },
     "execution_count": 228,
     "metadata": {},
     "output_type": "execute_result"
    }
   ],
   "source": [
    "info_df[info_df['Gender'] == 'Female'][['Marks', 'Name']]"
   ]
  },
  {
   "cell_type": "markdown",
   "id": "c5bb1b72-bda0-435c-bfa1-e3cadf10d338",
   "metadata": {},
   "source": [
    "#### Using Boolean indexing using isin() "
   ]
  },
  {
   "cell_type": "code",
   "execution_count": 232,
   "id": "0f8850b1-c385-4145-ba6e-6d24f5463b4b",
   "metadata": {},
   "outputs": [
    {
     "data": {
      "text/html": [
       "<div>\n",
       "<style scoped>\n",
       "    .dataframe tbody tr th:only-of-type {\n",
       "        vertical-align: middle;\n",
       "    }\n",
       "\n",
       "    .dataframe tbody tr th {\n",
       "        vertical-align: top;\n",
       "    }\n",
       "\n",
       "    .dataframe thead th {\n",
       "        text-align: right;\n",
       "    }\n",
       "</style>\n",
       "<table border=\"1\" class=\"dataframe\">\n",
       "  <thead>\n",
       "    <tr style=\"text-align: right;\">\n",
       "      <th></th>\n",
       "      <th>Name</th>\n",
       "      <th>Marks</th>\n",
       "    </tr>\n",
       "  </thead>\n",
       "  <tbody>\n",
       "    <tr>\n",
       "      <th>Aradhya</th>\n",
       "      <td>Aradhya</td>\n",
       "      <td>82</td>\n",
       "    </tr>\n",
       "    <tr>\n",
       "      <th>Archana</th>\n",
       "      <td>Archana</td>\n",
       "      <td>42</td>\n",
       "    </tr>\n",
       "    <tr>\n",
       "      <th>Radhika</th>\n",
       "      <td>Radhika</td>\n",
       "      <td>76</td>\n",
       "    </tr>\n",
       "  </tbody>\n",
       "</table>\n",
       "</div>"
      ],
      "text/plain": [
       "            Name  Marks\n",
       "Aradhya  Aradhya     82\n",
       "Archana  Archana     42\n",
       "Radhika  Radhika     76"
      ]
     },
     "execution_count": 232,
     "metadata": {},
     "output_type": "execute_result"
    }
   ],
   "source": [
    "info_df[info_df['Gender'].isin(['Female'])][['Name','Marks']]"
   ]
  },
  {
   "cell_type": "code",
   "execution_count": null,
   "id": "5ca40bb2-cc49-46f4-89c1-dc21bda98fb8",
   "metadata": {},
   "outputs": [],
   "source": []
  }
 ],
 "metadata": {
  "kernelspec": {
   "display_name": "Python 3 (ipykernel)",
   "language": "python",
   "name": "python3"
  },
  "language_info": {
   "codemirror_mode": {
    "name": "ipython",
    "version": 3
   },
   "file_extension": ".py",
   "mimetype": "text/x-python",
   "name": "python",
   "nbconvert_exporter": "python",
   "pygments_lexer": "ipython3",
   "version": "3.9.7"
  }
 },
 "nbformat": 4,
 "nbformat_minor": 5
}
