{
 "cells": [
  {
   "cell_type": "code",
   "execution_count": 1,
   "id": "1613ad20-75bd-4457-8c28-571f35649e22",
   "metadata": {},
   "outputs": [
    {
     "data": {
      "text/plain": [
       "'Hey'"
      ]
     },
     "execution_count": 1,
     "metadata": {},
     "output_type": "execute_result"
    }
   ],
   "source": [
    "\"Hey\""
   ]
  },
  {
   "cell_type": "code",
   "execution_count": 4,
   "id": "d8949863-96b7-478c-ad9e-f109e3cf7607",
   "metadata": {},
   "outputs": [],
   "source": [
    "lis_1 = [0,2,3,4,5,6,7,8,5,3,7] "
   ]
  },
  {
   "cell_type": "code",
   "execution_count": null,
   "id": "1010c667-a07d-433f-a724-9a103e17abb7",
   "metadata": {},
   "outputs": [],
   "source": [
    "def dipslay_duplicate(nums): # [0,2,3,3,4,5,5,,6]\n",
    "    dict_1 = dafaultdict() # {}}\n",
    "    for _ in nums:\n",
    "        if not dict_1[_]:\n",
    "            dict[_] = 1\n",
    "        else:\n",
    "            dict[_] += 1\n",
    "    "
   ]
  }
 ],
 "metadata": {
  "kernelspec": {
   "display_name": "Python 3 (ipykernel)",
   "language": "python",
   "name": "python3"
  },
  "language_info": {
   "codemirror_mode": {
    "name": "ipython",
    "version": 3
   },
   "file_extension": ".py",
   "mimetype": "text/x-python",
   "name": "python",
   "nbconvert_exporter": "python",
   "pygments_lexer": "ipython3",
   "version": "3.9.7"
  }
 },
 "nbformat": 4,
 "nbformat_minor": 5
}
